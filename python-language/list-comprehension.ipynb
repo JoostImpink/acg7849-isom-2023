{
 "cells": [
  {
   "cell_type": "markdown",
   "metadata": {},
   "source": [
    "# List Comprehension\n",
    "List comprehension offers a shorter syntax when you want to create a new list based on the values of an existing list.\n",
    "\n",
    "Advantages:\n",
    "- More time-efficient and space-efficient than loops.\n",
    "- Needs fewer lines of code.\n",
    "- Transforms iterative statement into a formula.\n",
    "\n",
    "__Syntax__ :\n",
    "newlist = [expression for item in iterable if condition == True]<br>\n",
    "<br>\n",
    "The return value is a new list, leaving the old list unchanged<br>"
   ]
  },
  {
   "cell_type": "markdown",
   "metadata": {},
   "source": [
    "### Regular approach using a for loop"
   ]
  },
  {
   "cell_type": "code",
   "execution_count": null,
   "metadata": {},
   "outputs": [],
   "source": [
    "# regular method - Iterating through a string Using for Loop\n",
    "\n",
    "h_letters = []\n",
    "\n",
    "for letter in 'human':\n",
    "    h_letters.append(letter)\n",
    "\n",
    "print(h_letters)"
   ]
  },
  {
   "cell_type": "markdown",
   "metadata": {},
   "source": [
    "#### Same output, but using list comprehension"
   ]
  },
  {
   "cell_type": "code",
   "execution_count": null,
   "metadata": {},
   "outputs": [],
   "source": [
    "# iterating through a string Using List Comprehension\n",
    "h_letters = [ letter for letter in 'human' ]\n",
    "print( h_letters)"
   ]
  },
  {
   "cell_type": "markdown",
   "metadata": {},
   "source": [
    "Here, a new list is assigned to variable h_letters, and list contains the items of the iterable string 'human'.<br>"
   ]
  },
  {
   "cell_type": "code",
   "execution_count": null,
   "metadata": {},
   "outputs": [],
   "source": [
    "# looping through a list (instead of getting a character each time)\n",
    "sameList = [ v for v in [5, 3, 8] ]\n",
    "print('sameList', sameList)\n",
    "doubleList = [ 2*v for v in [5, 3, 8]]\n",
    "print('doubleList', doubleList)\n"
   ]
  },
  {
   "cell_type": "markdown",
   "metadata": {},
   "source": [
    "### enumerate function\n",
    "\n",
    "The enumerate function is helpful to add a counter to count the elements in a list.\n",
    "The input is a list, and the output is a list of tuples. Each tuple has two elements: the first being the counter, the second being the value."
   ]
  },
  {
   "cell_type": "code",
   "execution_count": null,
   "metadata": {},
   "outputs": [],
   "source": [
    "enumerate( [5, 3, 8])"
   ]
  },
  {
   "cell_type": "code",
   "execution_count": null,
   "metadata": {},
   "outputs": [],
   "source": [
    "print( list ( enumerate ([5, 3, 8])) )"
   ]
  },
  {
   "cell_type": "code",
   "execution_count": null,
   "metadata": {},
   "outputs": [],
   "source": [
    "# make a list of dictionaries\n",
    "# instead of 'for v in ...' we use 'for (id, v) in ...' \n",
    "# then we can use id and v to make a dictionary: {'id': id, 'value': v}\n",
    "dictList = [ {'id': id, 'value': v} for (id,v) in enumerate([5, 3, 8]) ]\n",
    "print('dictList', dictList)"
   ]
  },
  {
   "cell_type": "markdown",
   "metadata": {},
   "source": [
    "### Applying functions"
   ]
  },
  {
   "cell_type": "code",
   "execution_count": null,
   "metadata": {},
   "outputs": [],
   "source": [
    "# my lame function doesn't do much (just returns whatever gets passed)\n",
    "def myLameFunction(x):\n",
    "    return (x)\n",
    "\n",
    "# call my lame function on each letter in 'human', and put the returned value in a list\n",
    "letters = [ myLameFunction(letter) for letter in 'human']\n",
    "print(letters)"
   ]
  },
  {
   "cell_type": "code",
   "execution_count": null,
   "metadata": {},
   "outputs": [],
   "source": [
    "# upper() capitalizes text\n",
    "print ('human'.upper() )"
   ]
  },
  {
   "cell_type": "code",
   "execution_count": null,
   "metadata": {},
   "outputs": [],
   "source": [
    "# my screaming function transforms the argument to string, and then capitalizes it\n",
    "def myScreamingFunction(x):\n",
    "    return ( str(x).upper() )\n",
    "\n",
    "print (myScreamingFunction('hi'))"
   ]
  },
  {
   "cell_type": "code",
   "execution_count": null,
   "metadata": {},
   "outputs": [],
   "source": [
    "# message\n",
    "message = 'hello how are you?'\n",
    "# the split function returns a list\n",
    "print( 'message.split:', message.split() )\n",
    "scream = [ myScreamingFunction(word) for word in message.split() ]\n",
    "print('scream:', scream)"
   ]
  },
  {
   "cell_type": "markdown",
   "metadata": {},
   "source": [
    "## Lambda functions"
   ]
  },
  {
   "cell_type": "code",
   "execution_count": null,
   "metadata": {},
   "outputs": [],
   "source": [
    "# using Lambda functions inside List\n",
    "letters = list(map(lambda x: x, 'human'))\n",
    "print(letters)"
   ]
  },
  {
   "cell_type": "code",
   "execution_count": null,
   "metadata": {},
   "outputs": [],
   "source": [
    "# instead of x:x you can apply upper() (since each letter is a string)\n",
    "letters = list(map(lambda x: x.upper(), 'human'))\n",
    "print(letters)"
   ]
  },
  {
   "cell_type": "code",
   "execution_count": null,
   "metadata": {},
   "outputs": [],
   "source": [
    "# use my screaming function\n",
    "letters = list(map(lambda x: myScreamingFunction(x), 'human'))\n",
    "print(letters)"
   ]
  },
  {
   "cell_type": "code",
   "execution_count": null,
   "metadata": {},
   "outputs": [],
   "source": [
    "# rounding numbers\n",
    "numbers = list(map(lambda x: round(x), [3.2, 2.51, 6.8 ] ))\n",
    "print(numbers)"
   ]
  },
  {
   "cell_type": "markdown",
   "metadata": {},
   "source": [
    "### if condition"
   ]
  },
  {
   "cell_type": "code",
   "execution_count": null,
   "metadata": {},
   "outputs": [],
   "source": [
    "# Using if with List Comprehension\n",
    "\n",
    "number_list = [ x for x in range(20) if x % 2 == 0]\n",
    "print(number_list)"
   ]
  },
  {
   "cell_type": "markdown",
   "metadata": {},
   "source": [
    "### Nesting"
   ]
  },
  {
   "cell_type": "markdown",
   "metadata": {},
   "source": [
    "Normally, we use two for loops to find the transpose of the matrix. Instead, we can perform nested iteration inside a list comprehension. Below is an example.<br>"
   ]
  },
  {
   "cell_type": "code",
   "execution_count": null,
   "metadata": {},
   "outputs": [],
   "source": [
    "#Transpose of Matrix using Nested Loops\n",
    "\n",
    "transposed = []\n",
    "matrix = [[1, 2, 3, 4], [4, 5, 6, 8]]\n",
    "print('matrix', matrix)\n",
    "\n",
    "for i in range(len(matrix[0])):\n",
    "    transposed_row = []\n",
    "\n",
    "    for row in matrix:\n",
    "        transposed_row.append(row[i])\n",
    "    transposed.append(transposed_row)\n",
    "\n",
    "print(transposed)"
   ]
  },
  {
   "cell_type": "code",
   "execution_count": null,
   "metadata": {},
   "outputs": [],
   "source": [
    "#Transpose of a Matrix using List Comprehension\n",
    "\n",
    "matrix = [[1, 2], [3,4], [5,6], [7,8]]\n",
    "transpose = [[row[i] for row in matrix] for i in range(2)]\n",
    "print (transpose)"
   ]
  }
 ],
 "metadata": {
  "kernelspec": {
   "display_name": "Python 3",
   "language": "python",
   "name": "python3"
  },
  "language_info": {
   "codemirror_mode": {
    "name": "ipython",
    "version": 3
   },
   "file_extension": ".py",
   "mimetype": "text/x-python",
   "name": "python",
   "nbconvert_exporter": "python",
   "pygments_lexer": "ipython3",
   "version": "3.8.8"
  },
  "vscode": {
   "interpreter": {
    "hash": "cd78fef2128015050713e82ca51c6520b11aee7c9ee8df750520bbbc7384cbaa"
   }
  }
 },
 "nbformat": 4,
 "nbformat_minor": 2
}
