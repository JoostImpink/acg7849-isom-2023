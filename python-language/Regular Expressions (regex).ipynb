{
 "cells": [
  {
   "cell_type": "markdown",
   "metadata": {},
   "source": [
    "# Regular Expressions (regex)"
   ]
  },
  {
   "cell_type": "markdown",
   "metadata": {},
   "source": [
    "## Cheatsheet\n",
    "\n",
    "Work through the examples on the cheatsheet (https://github.com/ziishaned/learn-regex ) and https://www.regexr.com or https://regex101.com/."
   ]
  },
  {
   "cell_type": "markdown",
   "metadata": {},
   "source": [
    "### Main functions\n",
    "\n",
    "There are 3 main regex functions: `match`, `search` and `findall` (multiple matches).     \n",
    "    \n",
    "The difference between `match` and `search` is that `match` matches on the beginning of the string (and `search` matches anywhere). \n",
    "\n",
    "Documentation: https://docs.python.org/3/library/re.html#module-contents"
   ]
  },
  {
   "cell_type": "code",
   "execution_count": 3,
   "metadata": {},
   "outputs": [
    {
     "name": "stdout",
     "output_type": "stream",
     "text": [
      "None\n",
      "<re.Match object; span=(2, 3), match='c'>\n"
     ]
    }
   ],
   "source": [
    "import re\n",
    "print ( re.match(\"c\", \"abcdef\")  )  # None\n",
    "print ( re.search(\"c\", \"abcdef\") )  # Matches c"
   ]
  },
  {
   "cell_type": "code",
   "execution_count": 4,
   "metadata": {},
   "outputs": [
    {
     "data": {
      "text/plain": [
       "['carefully', 'quickly']"
      ]
     },
     "execution_count": 4,
     "metadata": {},
     "output_type": "execute_result"
    }
   ],
   "source": [
    "text = \"He was carefully disguised but captured quickly by police.\"\n",
    "re.findall(r\"\\w+ly\", text)"
   ]
  },
  {
   "cell_type": "markdown",
   "metadata": {},
   "source": [
    "### Compile\n",
    "\n",
    "Regex can be 'compiled', this saves time if the regex is used multiple times.\n",
    "\n",
    "\n",
    "```python\n",
    "re.compile(pattern, flags = 0)\n",
    "```\n",
    "Compile a regular expression pattern into a regular expression object, which can be used for matching using its `match()`, `search()` and other methods, described below.\n",
    "\n",
    "The sequence:\n",
    "```python\n",
    "prog = re.compile(pattern)\n",
    "result = prog.match(string)\n",
    "```\n",
    "\n",
    "is equivalent to\n",
    "\n",
    "```python\n",
    "result = re.match(pattern, string)\n",
    "```\n",
    "\n",
    "The `findall()` function returns the non-overlapping matches of pattern in string as a list of strings (or list of tuples if there are multiple matching groups).\n"
   ]
  },
  {
   "cell_type": "markdown",
   "metadata": {},
   "source": [
    "### Flags\n",
    "\n",
    "Python regex flags:\n",
    "\n",
    "    re.I (re.IGNORECASE): ignore case.    \n",
    "    re.M (re.MULTILINE): make begin/end {^, $} consider each line.\n",
    "    re.S (re.DOTALL): make '.' match newline too \n",
    "\n",
    "See [http://xahlee.info/python/python_regex_flags.html](http://xahlee.info/python/python_regex_flags.html) for the different flags you can use."
   ]
  },
  {
   "cell_type": "code",
   "execution_count": 5,
   "metadata": {},
   "outputs": [
    {
     "data": {
      "text/plain": [
       "['I', 'a', 'h', 'a', 'b', 't']"
      ]
     },
     "execution_count": 5,
     "metadata": {},
     "output_type": "execute_result"
    }
   ],
   "source": [
    "text = \"\"\"\n",
    "I\n",
    "am\n",
    "having\n",
    "a\n",
    "blast\n",
    "today\"\"\"\n",
    "re.findall(r\"^\\w\", text, flags = re.MULTILINE)"
   ]
  },
  {
   "cell_type": "code",
   "execution_count": 6,
   "metadata": {},
   "outputs": [
    {
     "data": {
      "text/plain": [
       "[]"
      ]
     },
     "execution_count": 6,
     "metadata": {},
     "output_type": "execute_result"
    }
   ],
   "source": [
    "# .* doesn't match newline, so no result \n",
    "re.findall(r\"I.*?blast\", text)"
   ]
  },
  {
   "cell_type": "code",
   "execution_count": 7,
   "metadata": {},
   "outputs": [
    {
     "data": {
      "text/plain": [
       "['I\\nam\\nhaving\\na\\nblast']"
      ]
     },
     "execution_count": 7,
     "metadata": {},
     "output_type": "execute_result"
    }
   ],
   "source": [
    "# .* matches anything, including newline\n",
    "re.findall(r\"I.*?blast\", text, flags = re.DOTALL)"
   ]
  },
  {
   "cell_type": "markdown",
   "metadata": {},
   "source": [
    "### Use raw string ('r')"
   ]
  },
  {
   "cell_type": "code",
   "execution_count": 8,
   "metadata": {},
   "outputs": [
    {
     "name": "stdout",
     "output_type": "stream",
     "text": [
      "As raw string \\b shows up correctly with \\ and b tab would be \\t...\n",
      "Without r: As raw string \b shows up correctly with \\ and b and b tab would be \t...\n"
     ]
    }
   ],
   "source": [
    "print (r\"As raw string \\b shows up correctly with \\ and b tab would be \\t...\")\n",
    "print (\"Without r: As raw string \\b shows up correctly with \\ and b and b tab would be \\t...\") # not correct"
   ]
  },
  {
   "cell_type": "markdown",
   "metadata": {},
   "source": [
    "## Capturing groups (retrieving something)\n",
    "\n",
    "Captured groups are lists of tuples."
   ]
  },
  {
   "cell_type": "code",
   "execution_count": 9,
   "metadata": {},
   "outputs": [
    {
     "name": "stdout",
     "output_type": "stream",
     "text": [
      "<class 'list'>\n",
      "['Don 337', 'Mike 335', 'Taylor 226']\n"
     ]
    }
   ],
   "source": [
    "# without capturing\n",
    "result = re.findall(\"\\w+\\s\\d{3}\", \"The offices are as follows. Don 337, and Mike 335. Taylor 226.\")  \n",
    "print(type(result))\n",
    "print(result)"
   ]
  },
  {
   "cell_type": "code",
   "execution_count": 10,
   "metadata": {},
   "outputs": [
    {
     "name": "stdout",
     "output_type": "stream",
     "text": [
      "[('Don', '337'), ('Mike', '335'), ('Taylor', '226')]\n"
     ]
    }
   ],
   "source": [
    "# within parentheses () will be 'captured', here are 2 capturing groups\n",
    "result = re.findall(\"(\\w+)\\s(\\d{3})\", \"The offices are as follows. Don 337, and Mike 335. Taylor 226.\")  \n",
    "print(result)"
   ]
  },
  {
   "cell_type": "code",
   "execution_count": 11,
   "metadata": {},
   "outputs": [
    {
     "name": "stdout",
     "output_type": "stream",
     "text": [
      "name: Don , office: 337\n"
     ]
    }
   ],
   "source": [
    "name, office = result[0]\n",
    "print(\"name:\", name, \", office:\", office)"
   ]
  },
  {
   "cell_type": "code",
   "execution_count": 12,
   "metadata": {},
   "outputs": [
    {
     "name": "stdout",
     "output_type": "stream",
     "text": [
      "[('Don 337', 'Don', '337'), ('Mike 335', 'Mike', '335'), ('Taylor 226', 'Taylor', '226')]\n"
     ]
    }
   ],
   "source": [
    "# capturing groups within a capturing group\n",
    "result = re.findall(\"((\\w+)\\s(\\d{3}))\", \"The offices are as follows. Don 337, and Mike 335. Taylor 226.\")  \n",
    "print(result)"
   ]
  },
  {
   "cell_type": "code",
   "execution_count": 13,
   "metadata": {},
   "outputs": [
    {
     "name": "stdout",
     "output_type": "stream",
     "text": [
      "Match: 'Don 337', with person: Don and room number: 337\n",
      "Match: 'Mike 335', with person: Mike and room number: 335\n",
      "Match: 'Taylor 226', with person: Taylor and room number: 226\n"
     ]
    }
   ],
   "source": [
    "for r in result:\n",
    "    print (  \"Match: '{}', with person: {} and room number: {}\".format(r[0], r[1], r[2])  )"
   ]
  },
  {
   "cell_type": "code",
   "execution_count": null,
   "metadata": {},
   "outputs": [],
   "source": []
  }
 ],
 "metadata": {
  "kernelspec": {
   "display_name": "Python 3",
   "language": "python",
   "name": "python3"
  },
  "language_info": {
   "codemirror_mode": {
    "name": "ipython",
    "version": 3
   },
   "file_extension": ".py",
   "mimetype": "text/x-python",
   "name": "python",
   "nbconvert_exporter": "python",
   "pygments_lexer": "ipython3",
   "version": "3.8.8"
  }
 },
 "nbformat": 4,
 "nbformat_minor": 2
}
