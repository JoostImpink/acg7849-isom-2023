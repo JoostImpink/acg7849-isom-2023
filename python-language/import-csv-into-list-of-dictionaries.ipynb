{
 "cells": [
  {
   "cell_type": "markdown",
   "id": "0f1f92e6",
   "metadata": {},
   "source": [
    "# CSV to list of dictionaries\n",
    "\n",
    "Example of how to read a csv into a list of dictionaries, and then process these one at the time"
   ]
  },
  {
   "cell_type": "code",
   "execution_count": null,
   "id": "62ed393e",
   "metadata": {},
   "outputs": [],
   "source": [
    "import csv\n",
    "\n",
    "# make list of dictionaries\n",
    "with open('..\\datasets\\glassdoor.csv') as f:\n",
    "    # note that all values (v) are text (string)\n",
    "    items = [{k: v for k, v in row.items()} for row in csv.DictReader(f, skipinitialspace=True)]"
   ]
  },
  {
   "cell_type": "code",
   "execution_count": null,
   "id": "f806ce49",
   "metadata": {},
   "outputs": [],
   "source": [
    "print('number of items: ', len(items))"
   ]
  },
  {
   "cell_type": "code",
   "execution_count": null,
   "id": "f1dc3e02",
   "metadata": {},
   "outputs": [],
   "source": [
    "items[0:3]"
   ]
  },
  {
   "cell_type": "code",
   "execution_count": null,
   "id": "6b6056a8",
   "metadata": {},
   "outputs": [],
   "source": [
    "# a function returning 2 values (tuple)\n",
    "def myFunc():\n",
    "    return(\"hi\", 7)\n",
    "\n",
    "# assign both values to a single variable\n",
    "values = myFunc()  \n",
    "print('values:', values)\n",
    "print('type:', type( values ) )\n",
    "\n",
    "# assign it to two variables (in one go)\n",
    "x,y = myFunc()\n",
    "print('value x:', x, 'value y:', y)"
   ]
  },
  {
   "cell_type": "code",
   "execution_count": null,
   "id": "50a7b259",
   "metadata": {},
   "outputs": [],
   "source": [
    "myList = [ ('hi', 7), (\"go\", 8), (\"gators\", 10)   ]"
   ]
  },
  {
   "cell_type": "code",
   "execution_count": null,
   "id": "2068e91c",
   "metadata": {},
   "outputs": [],
   "source": [
    "# turn it into an object\n",
    "{k: v for k, v in myList}"
   ]
  },
  {
   "cell_type": "markdown",
   "id": "87314e77",
   "metadata": {},
   "source": [
    "## Process the list of dictionaries"
   ]
  },
  {
   "cell_type": "markdown",
   "id": "94f6227e",
   "metadata": {},
   "source": [
    "### For loop"
   ]
  },
  {
   "cell_type": "code",
   "execution_count": null,
   "id": "b684353f",
   "metadata": {},
   "outputs": [],
   "source": [
    "# process the first 3 dictionaries in the list\n",
    "for i in items[0:3]:\n",
    "    # i will be a dictionary, holding one record at the time\n",
    "    print(type(i))\n",
    "    print( 'Overall score: {}, Firm: {} ({})'. format(i[\"overall_rating\"], i[\"firm\"], i[\"department\"]) )\n",
    "    # do other things"
   ]
  },
  {
   "cell_type": "markdown",
   "id": "3f4c429a",
   "metadata": {},
   "source": [
    "### List comprehension"
   ]
  },
  {
   "cell_type": "code",
   "execution_count": null,
   "id": "33ce29d1",
   "metadata": {},
   "outputs": [],
   "source": [
    "# function that returns the department in uppercase\n",
    "def myFunction( row ):\n",
    "    return (row['department'].upper() )\n",
    "\n",
    "# list comprehension: call function for each dictionary at the time (for those where firm is 'ey')\n",
    "department_ey = [  myFunction(i) for i in items if i['firm'] == 'ey' ]\n",
    "\n",
    "print(department_ey)"
   ]
  },
  {
   "cell_type": "markdown",
   "id": "cbe192e9",
   "metadata": {},
   "source": [
    "## Converting numerical variables to float\n",
    "\n",
    "```{k: v for k, v in row.items()}``` will set all variables to text (string). What if we want to do numerical operations on some variables?\n",
    "\n",
    "We can use the `isnumeric' method on strings"
   ]
  },
  {
   "cell_type": "code",
   "execution_count": null,
   "id": "b6b59bf1",
   "metadata": {},
   "outputs": [],
   "source": [
    "'5'.isnumeric()"
   ]
  },
  {
   "cell_type": "markdown",
   "id": "42eadd67",
   "metadata": {},
   "source": [
    "and then change the string into float if True"
   ]
  },
  {
   "cell_type": "code",
   "execution_count": null,
   "id": "2b823941",
   "metadata": {},
   "outputs": [],
   "source": [
    "float('5')"
   ]
  },
  {
   "cell_type": "markdown",
   "id": "d4bbde9c",
   "metadata": {},
   "source": [
    "Unfortunately, `isnumeric` only works for integers"
   ]
  },
  {
   "cell_type": "code",
   "execution_count": null,
   "id": "a59c2e3b",
   "metadata": {},
   "outputs": [],
   "source": [
    "\"1500\".isnumeric()"
   ]
  },
  {
   "cell_type": "code",
   "execution_count": null,
   "id": "099242ef",
   "metadata": {},
   "outputs": [],
   "source": [
    "\"15.05\".isnumeric()"
   ]
  },
  {
   "cell_type": "code",
   "execution_count": null,
   "id": "7bc60305",
   "metadata": {},
   "outputs": [],
   "source": [
    "# function to test is a string holds a valid numer\n",
    "# https://stackoverflow.com/questions/354038/how-do-i-check-if-a-string-represents-a-number-float-or-int\n",
    "def is_number(s):\n",
    "    # return True for missing values as well\n",
    "    if s == '':\n",
    "        return True\n",
    "    try:\n",
    "        float(s)\n",
    "        return True\n",
    "    except ValueError:\n",
    "        return False"
   ]
  },
  {
   "cell_type": "code",
   "execution_count": null,
   "id": "e6414130",
   "metadata": {},
   "outputs": [],
   "source": [
    "is_number(\"15.05\")"
   ]
  },
  {
   "cell_type": "markdown",
   "id": "d2387170",
   "metadata": {},
   "source": [
    "We want to convert a whole column of strings into numbers; we want to also convert if it is missing (''). Our function will return True for missing strings:"
   ]
  },
  {
   "cell_type": "code",
   "execution_count": null,
   "id": "b4abb30a",
   "metadata": {},
   "outputs": [],
   "source": [
    "is_number('')"
   ]
  },
  {
   "cell_type": "markdown",
   "id": "128dd403",
   "metadata": {},
   "source": [
    "We would want to ensure though that all strings are valid numbers (in the whole column) so that we don't end up with a variable that has strings mixed with numbers.\n",
    "\n",
    "We can use the `all` function for this. Call this function with a list of booleans. This function will return True if all are True. (There is also an `any` function, which returns True if at least one is True)"
   ]
  },
  {
   "cell_type": "code",
   "execution_count": null,
   "id": "4f4f3b6d",
   "metadata": {},
   "outputs": [],
   "source": [
    "all([True, True, True])"
   ]
  },
  {
   "cell_type": "code",
   "execution_count": null,
   "id": "d462ecb1",
   "metadata": {},
   "outputs": [],
   "source": [
    "all([True, True, False])"
   ]
  },
  {
   "cell_type": "code",
   "execution_count": null,
   "id": "d5035dea",
   "metadata": {},
   "outputs": [],
   "source": [
    "any([False, False, True])"
   ]
  },
  {
   "cell_type": "markdown",
   "id": "969dd88a",
   "metadata": {},
   "source": [
    "Let's go through the 'overall_rating' variable. Use list comprehension to make a list of booleans for each value being a number or not, and pass this into `all`"
   ]
  },
  {
   "cell_type": "code",
   "execution_count": null,
   "id": "b0e16cb9",
   "metadata": {},
   "outputs": [],
   "source": [
    "# first 10\n",
    "[ is_number( i['overall_rating'] ) for i in items[0:10]  ] "
   ]
  },
  {
   "cell_type": "code",
   "execution_count": null,
   "id": "3d3c5354",
   "metadata": {},
   "outputs": [],
   "source": [
    "all( [ is_number( i['overall_rating'] ) for i in items  ] )"
   ]
  },
  {
   "cell_type": "code",
   "execution_count": null,
   "id": "13c5e4d4",
   "metadata": {},
   "outputs": [],
   "source": [
    "# helper function, cast property into a float\n",
    "# obj: object to change\n",
    "# prop: property of object to change\n",
    "def myFloatMaker( obj, prop  ):\n",
    "    # guard for missing string values, set it to NaN (not a number)\n",
    "    if obj[prop]=='':\n",
    "        obj[prop] = float(\"nan\")\n",
    "    # not missing: convert to float\n",
    "    obj[prop] = float( obj[prop])\n",
    "\n",
    "# if all are numbers, then let's convert it into a float\n",
    "if all( [ is_number( i['overall_rating'] ) for i in items  ] ):\n",
    "       [ myFloatMaker(i, \"overall_rating\") for i in items  ]\n",
    "\n",
    "items[0:3]"
   ]
  },
  {
   "cell_type": "code",
   "execution_count": null,
   "id": "1b88fc44",
   "metadata": {
    "scrolled": true
   },
   "outputs": [],
   "source": [
    "# function that turns strings into floats (if numeric)\n",
    "# myListDictionaries: list of dictionaries\n",
    "# props: list of strings with properties (for example: ['overall_rating', 'compensation'])\n",
    "# this function still uses function myFloatMaker (previous cell)\n",
    "def MakeNumeric( myListDictionaries, props ):\n",
    "    # loop through each property to convert\n",
    "    for prop in props:\n",
    "        # are all values numeric (or missing)\n",
    "        if all( [ is_number( i[prop]) for i in myListDictionaries  ] ):\n",
    "            # set all values to float\n",
    "            [ myFloatMaker(i, prop) for i in myListDictionaries  ]\n",
    "\n",
    "            \n",
    "#call function\n",
    "MakeNumeric( items, ['overall_rating', 'compensation', 'worklife', 'culture_values', 'career', 'seniormanagement']  )\n",
    "\n",
    "items[0:3]"
   ]
  },
  {
   "cell_type": "markdown",
   "id": "cfeb93e1",
   "metadata": {},
   "source": [
    "### About dealing with NaNs\n",
    "\n",
    "See: https://towardsdatascience.com/5-methods-to-check-for-nan-values-in-in-python-3f21ddd17eed#:~:text=NaN%20stands%20for%20Not%20A,major%20problems%20in%20Data%20Analysis.\n",
    "        \n",
    "You can use numpy and pandas to check for NaNs. A NaN variable does not equal itself, so you can also use:    "
   ]
  },
  {
   "cell_type": "code",
   "execution_count": null,
   "id": "f18d9a81",
   "metadata": {},
   "outputs": [],
   "source": [
    "def isNaN(num):\n",
    "    return num!= num\n",
    "\n",
    "x=float(\"nan\")\n",
    "isNaN(x)"
   ]
  },
  {
   "cell_type": "code",
   "execution_count": null,
   "id": "b5634c98",
   "metadata": {},
   "outputs": [],
   "source": [
    "isNaN(5.3)"
   ]
  },
  {
   "cell_type": "code",
   "execution_count": null,
   "id": "c1fc13ea",
   "metadata": {},
   "outputs": [],
   "source": []
  }
 ],
 "metadata": {
  "kernelspec": {
   "display_name": "Python 3",
   "language": "python",
   "name": "python3"
  },
  "language_info": {
   "codemirror_mode": {
    "name": "ipython",
    "version": 3
   },
   "file_extension": ".py",
   "mimetype": "text/x-python",
   "name": "python",
   "nbconvert_exporter": "python",
   "pygments_lexer": "ipython3",
   "version": "3.8.8"
  }
 },
 "nbformat": 4,
 "nbformat_minor": 5
}
