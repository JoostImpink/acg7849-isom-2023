{
 "cells": [
  {
   "cell_type": "markdown",
   "metadata": {},
   "source": [
    "# Python Classes and Objects\n",
    "\n",
    "Python is an object-oriented programming language. Unlike procedure-oriented programming, where the main emphasis is on functions, OOP stresses on objects.<br>\n",
    "\n",
    "__An object is simply a collection of data (variables) and methods (functions) that act on those data.__\n",
    "__A class is a blueprint for that object.__\n",
    "\n",
    "An object is also called an instance of a class and the process of creating this object is called __instantiation__."
   ]
  },
  {
   "cell_type": "markdown",
   "metadata": {},
   "source": [
    "## Defining a Class in Python\n",
    "\n",
    "class ClassName:<br>\n",
    "   'Optional class documentation string'<br>\n",
    "   class_suite<br>\n",
    "\n",
    "\n",
    "The class has a documentation string, which can be accessed via ClassName.__doc__.<br>\n",
    "The class_suite consists of all the component statements defining class members, data attributes and functions.<br>"
   ]
  },
  {
   "cell_type": "code",
   "execution_count": null,
   "metadata": {},
   "outputs": [],
   "source": [
    "# example\n",
    "\n",
    "class Employee:\n",
    "    'Common base class for all employees'\n",
    "    empCount = 0\n",
    "    \n",
    "    def __init__(self, name, salary):\n",
    "        self.name = name\n",
    "        self.salary = salary\n",
    "        Employee.empCount += 1\n",
    "    \n",
    "    def displayCount(self):\n",
    "        'Displays total employees'\n",
    "        print (\"Total Employee %d\" % Employee.empCount)\n",
    "        \n",
    "    def displayEmployee(self):\n",
    "        'Displays employee name and salary'\n",
    "        print (\"Name : \", self.name,  \", Salary: \", self.salary)"
   ]
  },
  {
   "cell_type": "markdown",
   "metadata": {},
   "source": [
    "In the above example, empCount is a class variable whose value is shared among all instances of a this class.<br>\n",
    "You declare other class methods like normal functions with the exception that the first argument to each method is self.<br>\n",
    "Python adds the self argument to the list for you; you do not need to include it when you call the methods.<br>"
   ]
  },
  {
   "cell_type": "code",
   "execution_count": null,
   "metadata": {},
   "outputs": [],
   "source": [
    "help('Employee')"
   ]
  },
  {
   "cell_type": "code",
   "execution_count": null,
   "metadata": {},
   "outputs": [],
   "source": [
    "Employee.__doc__"
   ]
  },
  {
   "cell_type": "code",
   "execution_count": null,
   "metadata": {},
   "outputs": [],
   "source": [
    "Employee.displayEmployee.__doc__"
   ]
  },
  {
   "cell_type": "markdown",
   "metadata": {},
   "source": [
    "## Creating Instance Objects\n",
    "To create instances of a class, we call the class using class name and pass in whatever arguments its __init__ method accepts.<br>"
   ]
  },
  {
   "cell_type": "code",
   "execution_count": null,
   "metadata": {},
   "outputs": [],
   "source": [
    "# create the first object\n",
    "emp1 = Employee(\"Zen\", 2000)\n",
    "# second object\n",
    "emp2 = Employee(\"Max\", 5000)"
   ]
  },
  {
   "cell_type": "code",
   "execution_count": null,
   "metadata": {},
   "outputs": [],
   "source": [
    "print(emp1)"
   ]
  },
  {
   "cell_type": "markdown",
   "metadata": {},
   "source": [
    "## Calling functions, accessing Attributes\n",
    "\n",
    "You access the object's functions and attributes using the dot operator with object."
   ]
  },
  {
   "cell_type": "code",
   "execution_count": null,
   "metadata": {},
   "outputs": [],
   "source": [
    "# accessing attribute\n",
    "print('Name', emp1.name)\n",
    "# calling a function\n",
    "emp1.displayEmployee()\n",
    "\n",
    "# accessing shard property through class\n",
    "print (\"Total Employee %d\" % Employee.empCount)"
   ]
  },
  {
   "cell_type": "code",
   "execution_count": null,
   "metadata": {},
   "outputs": [],
   "source": [
    "# shared property through object\n",
    "emp2.empCount"
   ]
  },
  {
   "cell_type": "markdown",
   "metadata": {},
   "source": [
    "### Another example"
   ]
  },
  {
   "cell_type": "code",
   "execution_count": null,
   "metadata": {},
   "outputs": [],
   "source": [
    "# example\n",
    "class Person:\n",
    "    \"This is a person class\"\n",
    "    age = 10\n",
    "\n",
    "    def greet(self):\n",
    "        print('Hello')"
   ]
  },
  {
   "cell_type": "code",
   "execution_count": null,
   "metadata": {},
   "outputs": [],
   "source": [
    "# create a new object of Person class\n",
    "harry = Person()\n",
    "\n",
    "# accessing property\n",
    "print('Age', Person.age)\n",
    "\n",
    "# note the 'None' and the order of print output\n",
    "print('Function call on greet', harry.greet() )\n",
    "\n",
    "# again \n",
    "harry.greet()"
   ]
  },
  {
   "cell_type": "markdown",
   "metadata": {},
   "source": [
    "Instead of using the normal statements to access attributes, we can use following functions −<br>\n",
    "\n",
    "__getattr(obj, name[, default])__ − to access the attribute of object.<br>\n",
    "__hasattr(obj,name)__ − to check if an attribute exists or not.<br>\n",
    "__setattr(obj,name,value)__ − to set an attribute. If attribute does not exist, then it would be created.<br>\n",
    "__delattr(obj, name)__ − to delete an attribute.<br>"
   ]
  },
  {
   "cell_type": "markdown",
   "metadata": {},
   "source": [
    "## Built-In Class Attributes\n",
    "\n",
    "__dict__ − Dictionary containing the class's namespace. It represents a dictionary or any mapping object that is used to store the attributes of the object<br>\n",
    "__doc__ − Class documentation string or none, if undefined.<br>\n",
    "__name__ − Class name.<br>\n",
    "__module__ − Module name in which the class is defined. This attribute is \"__main__\" in interactive mode.<br>\n",
    "__bases__ − A possibly empty tuple containing the base classes, in order of their occurrence in the base class list. Python provides a __bases__ attribute on each class that can be used to obtain a list of classes the given class inherits. The __bases__ property of the class contains a list of all the base classes that the given class inherits.<br>\n"
   ]
  },
  {
   "cell_type": "code",
   "execution_count": null,
   "metadata": {},
   "outputs": [],
   "source": [
    "print (\"Employee.__doc__:\", Employee.__doc__)\n",
    "print (\"Employee.__name__:\", Employee.__name__)\n",
    "print (\"Employee.__module__:\", Employee.__module__)\n",
    "print (\"Employee.__bases__:\", Employee.__bases__)\n",
    "print (\"Employee.__dict__:\", Employee.__dict__)"
   ]
  },
  {
   "cell_type": "markdown",
   "metadata": {},
   "source": [
    "## Class Inheritance\n",
    "Create a class by deriving it from a preexisting class by listing the parent class in parentheses after the new class name.<br>\n",
    "\n",
    "The child class inherits the attributes of its parent class, and you can use those attributes as if they were defined in the child class. A child class can also override data members and methods from the parent.<br>"
   ]
  },
  {
   "cell_type": "markdown",
   "metadata": {},
   "source": [
    "##### Syntax<br>\n",
    "\n",
    "class SubClassName (ParentClass1[, ParentClass2, ...]):<br>\n",
    "   'Optional class documentation string'<br>\n",
    "   class_suite<br>"
   ]
  },
  {
   "cell_type": "code",
   "execution_count": null,
   "metadata": {},
   "outputs": [],
   "source": [
    "# example\n",
    "\n",
    "class Parent:\n",
    "    parentAttr = 100\n",
    "    def __init__(self):\n",
    "        print (\"Calling parent constructor\")\n",
    "    \n",
    "    def parentMethod(self):\n",
    "        print ('Calling parent method')\n",
    "        \n",
    "    def setAttr(self, attr):\n",
    "        Parent.parentAttr = attr\n",
    "        \n",
    "    def getAttr(self):\n",
    "        print (\"Parent attribute :\", Parent.parentAttr)\n",
    "        \n",
    "class Child(Parent): # define child class\n",
    "    def __init__(self):\n",
    "        print (\"Calling child constructor\")\n",
    "        \n",
    "    def childMethod(self):\n",
    "        print ('Calling child method')"
   ]
  },
  {
   "cell_type": "code",
   "execution_count": null,
   "metadata": {},
   "outputs": [],
   "source": [
    "c = Child()          # instance of child"
   ]
  },
  {
   "cell_type": "code",
   "execution_count": null,
   "metadata": {},
   "outputs": [],
   "source": [
    "c.childMethod()      # child calls its method"
   ]
  },
  {
   "cell_type": "code",
   "execution_count": null,
   "metadata": {},
   "outputs": [],
   "source": [
    "c.parentMethod()     # calls parent's method"
   ]
  },
  {
   "cell_type": "code",
   "execution_count": null,
   "metadata": {},
   "outputs": [],
   "source": [
    "c.setAttr(200)       # again call parent's method"
   ]
  },
  {
   "cell_type": "code",
   "execution_count": null,
   "metadata": {},
   "outputs": [],
   "source": [
    "c.getAttr()          # again call parent's method"
   ]
  },
  {
   "cell_type": "markdown",
   "metadata": {},
   "source": [
    "__issubclass() or isinstance()__ functions can be used to check a relationships of two classes and instances.<br>\n",
    "\n",
    "The issubclass(sub, sup) boolean function returns true if the given subclass sub is indeed a subclass of the superclass sup.<br>\n",
    "The isinstance(obj, Class) boolean function returns true if obj is an instance of class Class or is an instance of a subclass of Class.<br>"
   ]
  },
  {
   "cell_type": "markdown",
   "metadata": {},
   "source": [
    "## Overriding Methods\n",
    "We can override parent's methods because we may want special or different functionality in the subclass.<br>"
   ]
  },
  {
   "cell_type": "code",
   "execution_count": null,
   "metadata": {},
   "outputs": [],
   "source": [
    "# example\n",
    "\n",
    "class Parent:        # define parent class\n",
    "    def myMethod(self):\n",
    "        print ('Calling parent method')\n",
    "\n",
    "class Child(Parent): # define child class\n",
    "    def myMethod(self):\n",
    "        print ('Calling child method')\n",
    "\n",
    "c = Child()          # instance of child\n",
    "c.myMethod()         # child calls overridden method"
   ]
  },
  {
   "cell_type": "markdown",
   "metadata": {},
   "source": [
    "## Overloading Operators\n",
    " The __add__ method helps to performs vector addition<br>"
   ]
  },
  {
   "cell_type": "code",
   "execution_count": null,
   "metadata": {},
   "outputs": [],
   "source": [
    "# example\n",
    "class Vector:\n",
    "    def __init__(self, a, b):\n",
    "        self.a = a\n",
    "        self.b = b\n",
    "        \n",
    "    def __str__(self):\n",
    "        return 'Vector (%d, %d)' % (self.a, self.b)\n",
    "    \n",
    "    def __add__(self,other):\n",
    "        print('calling __add__ function')\n",
    "        return Vector(self.a + other.a, self.b + other.b)\n",
    "\n",
    "v1 = Vector(2,10)\n",
    "v2 = Vector(5,-2)\n",
    "print (v1 + v2)"
   ]
  },
  {
   "cell_type": "markdown",
   "metadata": {},
   "source": [
    "## Data Hiding\n",
    "An object's attributes may or may not be visible outside the class definition. You need to name attributes with a double underscore prefix, and those attributes then are not be directly visible to outsiders.<br>"
   ]
  },
  {
   "cell_type": "code",
   "execution_count": null,
   "metadata": {},
   "outputs": [],
   "source": [
    "#example\n",
    "\n",
    "class JustCounter:\n",
    "    secretCount = 0\n",
    "    \n",
    "    def count(self):\n",
    "        self.secretCount += 1\n",
    "        print (self.secretCount)\n",
    "\n",
    "counter = JustCounter()\n",
    "counter.count()\n",
    "counter.count()\n",
    "print (counter.secretCount)"
   ]
  },
  {
   "cell_type": "code",
   "execution_count": null,
   "metadata": {},
   "outputs": [],
   "source": [
    "# now with __\n",
    "\n",
    "class JustCounter:\n",
    "    __secretCount = 0\n",
    "    \n",
    "    def count(self):\n",
    "        self.__secretCount += 1\n",
    "        print (self.__secretCount)\n",
    "\n",
    "counter = JustCounter()\n",
    "counter.count()\n",
    "counter.count()\n",
    "# this will no longer work\n",
    "print (counter.__secretCount)"
   ]
  },
  {
   "cell_type": "markdown",
   "metadata": {},
   "source": [
    "## Destroying Objects (Garbage Collection)\n",
    "\n",
    "Python deletes unwanted objects automatically to free the memory space. This process of periodically reclaiming blocks of memory that no longer are in use is called Garbage Collection.<br>\n",
    "\n",
    "Python's garbage collector runs during program execution and is triggered when an object's reference count reaches zero. An object's reference count changes as the number of aliases that point to it changes.<br>\n",
    "\n",
    "An object's reference count increases when it is assigned a new name or placed in a container (list, tuple, or dictionary). The object's reference count decreases when it's deleted with del, its reference is reassigned, or its reference goes out of scope. When an object's reference count reaches zero, Python collects it automatically.<br>"
   ]
  },
  {
   "cell_type": "markdown",
   "metadata": {},
   "source": [
    "We normally will not notice when the garbage collector destroys an orphaned instance and reclaims its space.<br> But a class can implement the special method __del__(), called a destructor, that is invoked when the instance is about to be destroyed.<br>"
   ]
  },
  {
   "cell_type": "code",
   "execution_count": null,
   "metadata": {},
   "outputs": [],
   "source": []
  }
 ],
 "metadata": {
  "kernelspec": {
   "display_name": "Python 3",
   "language": "python",
   "name": "python3"
  },
  "language_info": {
   "codemirror_mode": {
    "name": "ipython",
    "version": 3
   },
   "file_extension": ".py",
   "mimetype": "text/x-python",
   "name": "python",
   "nbconvert_exporter": "python",
   "pygments_lexer": "ipython3",
   "version": "3.8.8"
  },
  "vscode": {
   "interpreter": {
    "hash": "cd78fef2128015050713e82ca51c6520b11aee7c9ee8df750520bbbc7384cbaa"
   }
  }
 },
 "nbformat": 4,
 "nbformat_minor": 2
}
