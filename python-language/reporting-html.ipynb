{
 "cells": [
  {
   "cell_type": "markdown",
   "id": "a56a933c",
   "metadata": {},
   "source": [
    "# Reporting - HTML\n",
    "\n",
    "We can use HTML templates with Jinja2 to generate reports in HTML format or pdf. While it is possible to create pdfs directly, there are benefits of generating HTML as it is easy to create web pages and web elements (tables, figures) in HTML using templates.\n",
    "\n",
    "See: https://www.justintodata.com/generate-reports-with-python/ and https://realpython.com/primer-on-jinja-templating/\n",
    "            and https://stackoverflow.com/questions/25373154/how-to-iterate-through-a-list-of-dictionaries-in-jinja-template"
   ]
  },
  {
   "cell_type": "code",
   "execution_count": null,
   "id": "cbd51c3d",
   "metadata": {
    "scrolled": true
   },
   "outputs": [],
   "source": [
    "# install once, restart kernel\n",
    "!pip install jinja2"
   ]
  },
  {
   "cell_type": "code",
   "execution_count": null,
   "id": "b8913961",
   "metadata": {},
   "outputs": [],
   "source": [
    "from jinja2 import Environment, FileSystemLoader\n",
    "import requests"
   ]
  },
  {
   "cell_type": "code",
   "execution_count": null,
   "id": "928e98b1",
   "metadata": {},
   "outputs": [],
   "source": [
    "# create a template Environment\n",
    "# requires template files to be in a 'templates' folder\n",
    "env = Environment(loader=FileSystemLoader('templates'))"
   ]
  },
  {
   "cell_type": "markdown",
   "id": "d73c714b",
   "metadata": {},
   "source": [
    "### First template - template1.html\n",
    "\n",
    "The template expects to variables to be passed in: `myTitle` and `myBody`\n",
    "\n",
    "```\n",
    "<html>\n",
    "    <head>\n",
    "        <title>{{myTitle}}</title>\n",
    "    </head>\n",
    "    <body>\n",
    "            {{myBody}}\n",
    "    </body>\n",
    "</html>\n",
    "```"
   ]
  },
  {
   "cell_type": "code",
   "execution_count": null,
   "id": "74a2a9a3",
   "metadata": {},
   "outputs": [],
   "source": [
    "# load the template - note it needs to be in a templates folder (see previous statement setting env)\n",
    "template = env.get_template('template1.html')\n",
    "\n",
    "# render it\n",
    "html = template.render(title='Hello there', myBody='<h1>Hi</h1><p>Good to see you!</p>')\n",
    "\n",
    "# write rendered template to file (in same folder as notebook)\n",
    "with open('template1-output.html', 'w') as f:\n",
    "    f.write(html)"
   ]
  },
  {
   "cell_type": "markdown",
   "id": "6bb35dc7",
   "metadata": {},
   "source": [
    "### Second template - template2.html\n",
    "\n",
    "In addition to `myTitle` and `myBody`, this template expects a list of strings: `myList'\n",
    "```\n",
    "<html>\n",
    "    <head>\n",
    "        <title>{{myTitle}}</title>\n",
    "    </head>\n",
    "    <body>\n",
    "            {{myBody}}\n",
    "            <h2>The list</h2>\n",
    "            <ul>\n",
    "                {% for item in myList %}\n",
    "                <li>{{item}}</li>\n",
    "                {% endfor %}\n",
    "            </ul>\n",
    "    </body>\n",
    "</html>\n",
    "```"
   ]
  },
  {
   "cell_type": "code",
   "execution_count": null,
   "id": "85aa838b",
   "metadata": {},
   "outputs": [],
   "source": [
    "# load the template\n",
    "template = env.get_template('template2.html')\n",
    "\n",
    "# render it\n",
    "html = template.render(title='Hello there', myBody='<h1>Hi</h1><p>Good to see you!</p>', myList=['banana', 'kangaroo', 'kegerator'])\n",
    "\n",
    "# write rendered template to file \n",
    "with open('template2-output.html', 'w') as f:\n",
    "    f.write(html)"
   ]
  },
  {
   "cell_type": "markdown",
   "id": "c3d29282",
   "metadata": {},
   "source": [
    "### Third template - template3.html\n",
    "\n",
    "In addition to myTitle and myBody, this template expects a list of dictionaries: `myList', with keys 'shop' and 'thing'\n",
    "\n",
    "```\n",
    "<html>\n",
    "    <head>\n",
    "        <title>{{myTitle}}</title>\n",
    "    </head>\n",
    "    <body>\n",
    "            {{myBody}}\n",
    "            <h2>The list</h2>\n",
    "            <ul>\n",
    "                {% for item in myList %}\n",
    "                <li><b>{{item['shop']}}</b> {{item['thing']}}</li>\n",
    "                {% endfor %}\n",
    "            </ul>\n",
    "    </body>\n",
    "</html>\n",
    "```"
   ]
  },
  {
   "cell_type": "code",
   "execution_count": null,
   "id": "c4ea8397",
   "metadata": {},
   "outputs": [],
   "source": [
    "# load the template\n",
    "template = env.get_template('template3.html')\n",
    "\n",
    "myList = [\n",
    "    { 'shop' : 'Publix', 'thing' : 'bananas' },\n",
    "    { 'shop' : 'Rural King', 'thing' : 'kangaroo' },\n",
    "    { 'shop' : 'Home Depot', 'thing' : 'kegerator' }    \n",
    "]\n",
    "\n",
    "# render it\n",
    "html = template.render(title='Hello there', myBody='<h1>Hi</h1><p>Good to see you!</p>', myList=myList)\n",
    "\n",
    "# write rendered template to file \n",
    "with open('template3-output.html', 'w') as f:\n",
    "    f.write(html)"
   ]
  },
  {
   "cell_type": "markdown",
   "id": "9000004d",
   "metadata": {},
   "source": [
    "### Note\n",
    "\n",
    "You can have multiple templates. For example, you can have a template to make a table, render it (to create a table), or render it multiple times (to make multiple tables), \n",
    "and then render another template (for example, a full page template) to place the tables in the page. \n"
   ]
  },
  {
   "cell_type": "markdown",
   "id": "20ee8b27",
   "metadata": {},
   "source": [
    "## Convert to pdf\n",
    "\n",
    "There are several ways to convert a HTML page into a pdf. For example, pdftkit with wkhtmltopdf or weasyprint.\n",
    "\n",
    "See https://towardsdatascience.com/convert-html-to-pdf-using-python-4df78b40de1b\n",
    "    and https://www.justintodata.com/generate-reports-with-python/"
   ]
  },
  {
   "cell_type": "code",
   "execution_count": null,
   "id": "8734b958",
   "metadata": {},
   "outputs": [],
   "source": []
  }
 ],
 "metadata": {
  "kernelspec": {
   "display_name": "Python 3",
   "language": "python",
   "name": "python3"
  },
  "language_info": {
   "codemirror_mode": {
    "name": "ipython",
    "version": 3
   },
   "file_extension": ".py",
   "mimetype": "text/x-python",
   "name": "python",
   "nbconvert_exporter": "python",
   "pygments_lexer": "ipython3",
   "version": "3.8.8"
  }
 },
 "nbformat": 4,
 "nbformat_minor": 5
}
