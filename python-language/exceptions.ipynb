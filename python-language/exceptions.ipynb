{
 "cells": [
  {
   "cell_type": "markdown",
   "metadata": {},
   "source": [
    "# Dealing with exceptions"
   ]
  },
  {
   "cell_type": "markdown",
   "metadata": {},
   "source": [
    "## try - except - finally\n",
    "\n",
    "Try a block of code, and catch errors with except. Finally always runs."
   ]
  },
  {
   "cell_type": "code",
   "execution_count": null,
   "metadata": {},
   "outputs": [],
   "source": [
    "try:\n",
    "    print(\"Trying to do something\")\n",
    "    num = 1 / 0 \n",
    "except:\n",
    "    print(\"Some error occurred\")\n",
    "finally:\n",
    "    print(\"Finally...\")"
   ]
  },
  {
   "cell_type": "markdown",
   "metadata": {},
   "source": [
    "## Common exceptions\n",
    "\n",
    "ImportError: Raised when the imported module is not found.\n",
    "    \n",
    "IndexError: Raised when the index of a sequence is out of range.\n",
    "    \n",
    "KeyError: Raised when a key is not found in a dictionary.\n",
    "    \n",
    "KeyboardInterrupt: Raised when the user hits the interrupt key ( Ctrl+C or Delete ).\n",
    "\n",
    "NameError: Raised when a variable is not found in local or global scope.\n",
    "    \n",
    "See: https://www.programiz.com/python-programming/exceptions"
   ]
  },
  {
   "cell_type": "markdown",
   "metadata": {},
   "source": [
    "## Capture specific exceptions\n",
    "\n",
    "When a piece of code can throw various exceptions it may be helpful to know what went wrong. For example, when crawling a web page, the page may not load, or an element on the page may not exist (page has changed).\n",
    "\n",
    "Let's capture a KeyError (accessing an element on a dictionary that doesn't exist)"
   ]
  },
  {
   "cell_type": "code",
   "execution_count": null,
   "metadata": {},
   "outputs": [],
   "source": [
    "mydict = { \"name\" : \"Joost\", \"shopping\" : [\"bananas\", \"beer\"]}"
   ]
  },
  {
   "cell_type": "code",
   "execution_count": null,
   "metadata": {},
   "outputs": [],
   "source": [
    "age = mydict[\"age\"]\n"
   ]
  },
  {
   "cell_type": "code",
   "execution_count": null,
   "metadata": {},
   "outputs": [],
   "source": [
    "try:\n",
    "    age = mydict[\"age\"]\n",
    "except KeyError:\n",
    "    print(\"key does not exist\")"
   ]
  },
  {
   "cell_type": "code",
   "execution_count": null,
   "metadata": {},
   "outputs": [],
   "source": [
    "# accessing the error message\n",
    "try:\n",
    "    age = mydict[\"age\"]\n",
    "except KeyError as e:\n",
    "    print(\"key does not exist:\", e)"
   ]
  },
  {
   "cell_type": "markdown",
   "metadata": {},
   "source": [
    "## Throw (raise) your own exceptions"
   ]
  },
  {
   "cell_type": "code",
   "execution_count": null,
   "metadata": {},
   "outputs": [],
   "source": [
    "# example\n",
    "raise RuntimeError(\"My error message\")"
   ]
  },
  {
   "cell_type": "code",
   "execution_count": null,
   "metadata": {},
   "outputs": [],
   "source": [
    "raise KeyError('something')"
   ]
  },
  {
   "cell_type": "code",
   "execution_count": null,
   "metadata": {},
   "outputs": [],
   "source": [
    "# function to double a value, expects a numeric variable\n",
    "def myDoubleFunction(el):\n",
    "    # test if argument is numeric\n",
    "    if not el.isnumeric():\n",
    "        # it isn't raise an error\n",
    "        raise RuntimeError(\"Argument passed should be numeric\", el)\n",
    "    else:\n",
    "        # return double\n",
    "        return (2*el)"
   ]
  },
  {
   "cell_type": "code",
   "execution_count": null,
   "metadata": {},
   "outputs": [],
   "source": [
    "try:\n",
    "    x= myDoubleFunction(\"five\")\n",
    "    print(x)\n",
    "except RuntimeError as e:\n",
    "    print('Error:', e)\n",
    "    "
   ]
  },
  {
   "cell_type": "markdown",
   "metadata": {},
   "source": [
    "### How to use classes to make your own errors\n",
    "\n",
    "See: https://towardsdatascience.com/how-to-define-custom-exception-classes-in-python-bfa346629bca"
   ]
  }
 ],
 "metadata": {
  "kernelspec": {
   "display_name": "Python 3",
   "language": "python",
   "name": "python3"
  },
  "language_info": {
   "codemirror_mode": {
    "name": "ipython",
    "version": 3
   },
   "file_extension": ".py",
   "mimetype": "text/x-python",
   "name": "python",
   "nbconvert_exporter": "python",
   "pygments_lexer": "ipython3",
   "version": "3.8.8"
  }
 },
 "nbformat": 4,
 "nbformat_minor": 4
}
