{
 "cells": [
  {
   "cell_type": "markdown",
   "metadata": {},
   "source": [
    "## Bag of words\n",
    "\n",
    "A commonly used way to describe/capture text features is by counting how often words appear in a text. \n",
    "\n",
    "A 'dictionary' (not a python dictionary) is a list of words to count."
   ]
  },
  {
   "cell_type": "markdown",
   "metadata": {},
   "source": [
    "In this example we will count the positive and the negative words in the business description section."
   ]
  },
  {
   "cell_type": "code",
   "execution_count": 1,
   "metadata": {},
   "outputs": [],
   "source": [
    "# read business section\n",
    "with open('apple_business_section.txt' , 'r', encoding='utf-8') as myfile:    \n",
    "    item1 =  myfile.read()     "
   ]
  },
  {
   "cell_type": "code",
   "execution_count": 2,
   "metadata": {},
   "outputs": [
    {
     "data": {
      "text/plain": [
       "'Item 1.    Business\\nCompany Background\\nThe Company designs, manufactures and markets smartphones, personal computers, tablets, wearables and accessories, and sells a variety of related services. The C'"
      ]
     },
     "execution_count": 2,
     "metadata": {},
     "output_type": "execute_result"
    }
   ],
   "source": [
    "item1[0:200]"
   ]
  },
  {
   "cell_type": "code",
   "execution_count": 8,
   "metadata": {},
   "outputs": [
    {
     "name": "stdout",
     "output_type": "stream",
     "text": [
      "354\n"
     ]
    },
    {
     "data": {
      "text/plain": [
       "['able',\n",
       " 'abundance',\n",
       " 'abundant',\n",
       " 'acclaimed',\n",
       " 'accomplish',\n",
       " 'accomplished',\n",
       " 'accomplishes',\n",
       " 'accomplishing',\n",
       " 'accomplishment',\n",
       " 'accomplishments']"
      ]
     },
     "execution_count": 8,
     "metadata": {},
     "output_type": "execute_result"
    }
   ],
   "source": [
    "# load dictionaries\n",
    "# positive words\n",
    "with open('positive words.txt' , 'r') as myfile:    \n",
    "    pos = [word.lower().strip('\\n') for word in myfile.readlines()]  \n",
    "\n",
    "print(len(pos))\n",
    "pos[0:10]"
   ]
  },
  {
   "cell_type": "code",
   "execution_count": 9,
   "metadata": {},
   "outputs": [],
   "source": [
    "# negative words\n",
    "with open('negative words.txt' , 'r') as myfile:    \n",
    "    neg = [word.lower().strip('\\n') for word in myfile.readlines()]   "
   ]
  },
  {
   "cell_type": "code",
   "execution_count": 10,
   "metadata": {},
   "outputs": [
    {
     "name": "stdout",
     "output_type": "stream",
     "text": [
      "2355\n"
     ]
    },
    {
     "data": {
      "text/plain": [
       "['abandon',\n",
       " 'abandoned',\n",
       " 'abandoning',\n",
       " 'abandonment',\n",
       " 'abandonments',\n",
       " 'abandons',\n",
       " 'abdicated',\n",
       " 'abdicates',\n",
       " 'abdicating',\n",
       " 'abdication']"
      ]
     },
     "execution_count": 10,
     "metadata": {},
     "output_type": "execute_result"
    }
   ],
   "source": [
    "print( len(neg) )\n",
    "# first 10\n",
    "neg[0:10]"
   ]
  },
  {
   "cell_type": "markdown",
   "metadata": {},
   "source": [
    "### Stemmed\n",
    "\n",
    "When counting the 'bag of words', you can have the text and the dictionaries stemmed (or not, as long as you are consistent)."
   ]
  },
  {
   "cell_type": "code",
   "execution_count": 15,
   "metadata": {},
   "outputs": [
    {
     "name": "stdout",
     "output_type": "stream",
     "text": [
      "915\n"
     ]
    },
    {
     "data": {
      "text/plain": [
       "['improprieti',\n",
       " 'late',\n",
       " 'conspiraci',\n",
       " 'confin',\n",
       " 'penalti',\n",
       " 'shortfal',\n",
       " 'sentenc',\n",
       " 'forfeit',\n",
       " 'malic',\n",
       " 'insurrect']"
      ]
     },
     "execution_count": 15,
     "metadata": {},
     "output_type": "execute_result"
    }
   ],
   "source": [
    "from nltk.stem import PorterStemmer\n",
    "from nltk.tokenize import sent_tokenize, word_tokenize\n",
    "\n",
    "ps = PorterStemmer()\n",
    "# notice the use of 'set' to drop duplicates\n",
    "neg_stemmed = list( set( [ ps.stem(w) for w in neg  ] ) )\n",
    "print( len(neg_stemmed) )\n",
    "neg_stemmed[0:10]"
   ]
  },
  {
   "cell_type": "markdown",
   "metadata": {},
   "source": [
    "## Example"
   ]
  },
  {
   "cell_type": "code",
   "execution_count": 22,
   "metadata": {},
   "outputs": [
    {
     "name": "stdout",
     "output_type": "stream",
     "text": [
      "number of words: 2844\n"
     ]
    },
    {
     "data": {
      "text/plain": [
       "['item',\n",
       " 'business',\n",
       " 'company',\n",
       " 'background',\n",
       " 'company',\n",
       " 'designs',\n",
       " 'manufactures',\n",
       " 'markets',\n",
       " 'smartphones',\n",
       " 'personal']"
      ]
     },
     "execution_count": 22,
     "metadata": {},
     "output_type": "execute_result"
    }
   ],
   "source": [
    "import nltk\n",
    "import re\n",
    "from nltk import FreqDist\n",
    "from nltk.tokenize import word_tokenize\n",
    "from nltk.corpus import stopwords\n",
    "import string\n",
    "\n",
    "# list of stop words \n",
    "stopWords = set(stopwords.words('english') ) \n",
    "\n",
    "# remove numbers, see https://stackoverflow.com/questions/57030670/how-to-remove-punctuation-and-numbers-during-tweettokenizer-step-in-nlp\n",
    "item1 = re.sub(r'\\d+', '', item1)\n",
    "\n",
    "# tokens excluding stopwords and punctuation\n",
    "business_tokens = [x.lower() for x in word_tokenize(item1) if x.lower() not in stopWords and x not in string.punctuation]\n",
    "\n",
    "print( 'number of words:',  len(business_tokens) )\n",
    "# first 10\n",
    "business_tokens[0:10]"
   ]
  },
  {
   "cell_type": "code",
   "execution_count": 17,
   "metadata": {},
   "outputs": [],
   "source": [
    "# positive \n",
    "pos_matches =  [ w for w in business_tokens if w in pos  ]  \n",
    "\n",
    "# negative\n",
    "neg_matches =  [ w for w in business_tokens if w in neg  ]  "
   ]
  },
  {
   "cell_type": "code",
   "execution_count": 18,
   "metadata": {},
   "outputs": [
    {
     "data": {
      "text/plain": [
       "['accidental',\n",
       " 'damage',\n",
       " 'loss',\n",
       " 'force',\n",
       " 'downward',\n",
       " 'infringing',\n",
       " 'cut',\n",
       " 'loss',\n",
       " 'shortage',\n",
       " 'declines',\n",
       " 'harassment',\n",
       " 'questions',\n",
       " 'concerns',\n",
       " 'hazards',\n",
       " 'crisis']"
      ]
     },
     "execution_count": 18,
     "metadata": {},
     "output_type": "execute_result"
    }
   ],
   "source": [
    "neg_matches[0:15]"
   ]
  },
  {
   "cell_type": "code",
   "execution_count": 19,
   "metadata": {},
   "outputs": [
    {
     "data": {
      "text/plain": [
       "2844"
      ]
     },
     "execution_count": 19,
     "metadata": {},
     "output_type": "execute_result"
    }
   ],
   "source": [
    "len(business_tokens)"
   ]
  },
  {
   "cell_type": "code",
   "execution_count": 20,
   "metadata": {},
   "outputs": [
    {
     "name": "stdout",
     "output_type": "stream",
     "text": [
      "#positive words: 42 ['exclusive', 'improvement', 'advancements', 'successfully', 'innovative', 'innovation', 'strong', 'opportunities', 'collaborate', 'able', 'advances', 'successfully', 'enhance', 'success', 'innovative', 'innovations', 'able', 'opportunity', 'enable', 'success', 'succeed', 'opportunity', 'collaborative', 'succeed', 'encouraged', 'profitability', 'able', 'improvement', 'advancements', 'successfully', 'innovative', 'achieve', 'able', 'successfully', 'effective', 'innovative', 'attractive', 'advantage', 'collaborate', 'improve', 'advantages', 'able']\n"
     ]
    }
   ],
   "source": [
    "print ( '#positive words:', len(pos_matches),  pos_matches )"
   ]
  },
  {
   "cell_type": "code",
   "execution_count": 26,
   "metadata": {},
   "outputs": [
    {
     "name": "stdout",
     "output_type": "stream",
     "text": [
      "#negative words: 296 ['investigate', 'aberrant', 'aberrant', 'aberrant', 'disappear', 'slow', 'incidence', 'incidence', 'worsening', 'worsening', 'depleting', 'deplete', 'implicated', 'tolerated', 'depletion', 'tolerated', 'discontinuations', 'depletion', 'tolerated', 'discontinued', 'adverse', 'closed', 'tolerated', 'negative', 'stopped', 'stopped', 'tolerated', 'closed', 'tolerated', 'adverse', 'discontinued', 'tolerated', 'adverse', 'severity', 'tolerated', 'discontinuations', 'tolerated', 'tolerated', 'adverse', 'tolerated', 'discontinuing', 'adverse', 'discontinued', 'adverse', 'closed', 'exposed', 'serious', 'adverse', 'discontinuing', 'tolerated', 'serious', 'unexpected', 'tolerated', 'termination', 'concerns', 'stopping', 'lack', 'concerns', 'abnormalities', 'challenges', 'terminated', 'concern', 'tolerated', 'investigate', 'preventing', 'tolerated', 'crucial', 'inhibited', 'inhibited', 'evade', 'lost', 'overcome', 'limitations', 'inhibited', 'escalating', 'infringing', 'difficult', 'unauthorized', 'crucial', 'unauthorized', 'challenge', 'secrecy', 'lags', 'questions', 'claims', 'claims', 'challenge', 'circumvent', 'interference', 'conflicting', 'claims', 'claims', 'litigation', 'adverse', 'litigation', 'disputed', 'cease', 'breach', 'failure', 'seriously', 'harm', 'litigation', 'litigation', 'prosecution', 'prosecution', 'claims', 'claims', 'limitations', 'adversely', 'infringement', 'difficult', 'infringement', 'difficult', 'infringement', 'infringement', 'infringe', 'infringement', 'infringement', 'difficult', 'prosecute', 'lost', 'invalidity', 'investigations', 'investigations', 'investigations', 'delay', 'escalates', 'terminate', 'terminated', 'challenges', 'breach', 'insolvency', 'escalates', 'terminate', 'terminated', 'challenges', 'breach', 'insolvency', 'escalate', 'terminate', 'terminated', 'breach', 'terminate', 'terminate', 'breach', 'insolvency', 'terminate', 'breach', 'terminate', 'terminated', 'breach', 'insolvency', 'unannounced', 'challenges', 'recalls', 'destroyed', 'stopped', 'delayed', 'disrupted', 'delay', 'difficult', 'difficult', 'impossible', 'adverse', 'terminate', 'exposed', 'unacceptable', 'undesirable', 'unacceptable', 'unacceptable', 'unacceptable', 'interrupt', 'delay', 'adverse', 'difficult', 'susceptible', 'delay', 'delay', 'termination', 'insufficient', 'delays', 'adverse', 'serious', 'serious', 'serious', 'irreversible', 'failed', 'difficult', 'fail', 'failure', 'delayed', 'delay', 'negatively', 'adverse', 'claims', 'claims', 'violation', 'violations', 'recall', 'warning', 'injunctions', 'fines', 'criminal', 'penalties', 'adverse', 'insufficient', 'failure', 'adverse', 'adverse', 'adverse', 'uninsured', 'challenges', 'fail', 'penalty', 'invalid', 'question', 'invalidate', 'defer', 'delay', 'burden', 'penalty', 'burden', 'terminated', 'terminating', 'denied', 'limitations', 'limitation', 'fraud', 'abuse', 'false', 'claims', 'knowingly', 'willfully', 'violate', 'violation', 'violation', 'false', 'fraudulent', 'false', 'claims', 'false', 'claims', 'knowingly', 'false', 'fictitious', 'fraudulent', 'false', 'claims', 'violations', 'false', 'claims', 'penalties', 'damages', 'false', 'claims', 'threat', 'investigation', 'prosecution', 'unapproved', 'false', 'claims', 'criminal', 'convictions', 'criminal', 'investigating', 'fraud', 'abuse', 'criminal', 'knowingly', 'willfully', 'defraud', 'knowingly', 'willfully', 'embezzling', 'willfully', 'obstructing', 'criminal', 'investigation', 'knowingly', 'willfully', 'falsifying', 'concealing', 'false', 'fictitious', 'fraudulent', 'violate', 'failure', 'penalties', 'failures', 'criminal', 'penalties', 'damages', 'injunctions', 'false', 'claims', 'complicating']\n"
     ]
    }
   ],
   "source": [
    "print ( '#negative words:', len(neg_matches),  neg_matches )"
   ]
  },
  {
   "cell_type": "code",
   "execution_count": null,
   "metadata": {},
   "outputs": [],
   "source": []
  }
 ],
 "metadata": {
  "kernelspec": {
   "display_name": "Python 3",
   "language": "python",
   "name": "python3"
  },
  "language_info": {
   "codemirror_mode": {
    "name": "ipython",
    "version": 3
   },
   "file_extension": ".py",
   "mimetype": "text/x-python",
   "name": "python",
   "nbconvert_exporter": "python",
   "pygments_lexer": "ipython3",
   "version": "3.8.8"
  }
 },
 "nbformat": 4,
 "nbformat_minor": 2
}
