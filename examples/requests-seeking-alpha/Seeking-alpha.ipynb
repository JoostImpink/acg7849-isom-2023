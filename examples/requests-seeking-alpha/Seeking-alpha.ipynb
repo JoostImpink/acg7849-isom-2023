{
 "cells": [
  {
   "cell_type": "markdown",
   "id": "17e3c822",
   "metadata": {},
   "source": [
    "# Requests - Seeking alpha API"
   ]
  },
  {
   "cell_type": "markdown",
   "id": "ea88b468",
   "metadata": {},
   "source": [
    "## Rapid API\n",
    "\n",
    "We will use Rapidapi.com's API to request Seeking Alpha (seekingalpha.com) content. Seeking Alpha is a trading website (graphs, news, SEC filings, etc). An API (Application programming interface) is a light way (in terms of #bytes and number of requests needed) to send/receive data compared to getting the same data off a web page.\n",
    "\n",
    "### Please register for a free account on https://rapidapi.com/apidojo/api/seeking-alpha/pricing\n",
    "\n",
    "Then select the 'basic plan', which allows for 500 free API calls. (Note that this could go quick: when writing/debugging your code limit the number of API calls so that you don't run out.)\n",
    "\n",
    "Click on 'endpoints' (first menu item on the top left); your API key is in the middle panel (where it says 'Header parameters' and 'X-RapidAPI-Key').\n",
    "                                                               \n"
   ]
  },
  {
   "cell_type": "markdown",
   "id": "a5b47423",
   "metadata": {},
   "source": [
    "### API Key\n",
    "\n",
    "Rename file 'api-key-example.txt' to 'api-key.txt' and paste in your API key\n",
    "\n",
    "See page https://rapidapi.com/apidojo/api/seeking-alpha "
   ]
  },
  {
   "cell_type": "markdown",
   "id": "503f245b",
   "metadata": {},
   "source": [
    "### Read API key from disk\n",
    "\n",
    "In the repository, I have used github settings to exclude (ignore) file 'api-key.txt'. This way, you can share your code publicly without exposing passwords.\n"
   ]
  },
  {
   "cell_type": "code",
   "execution_count": null,
   "id": "014e6215",
   "metadata": {},
   "outputs": [],
   "source": [
    "# read file (first line)\n",
    "# this will only work with files that are one line\n",
    "with open('api-key.txt', 'r') as file:\n",
    "    apiKey = file.read().rstrip()"
   ]
  },
  {
   "cell_type": "markdown",
   "id": "9f0af442",
   "metadata": {},
   "source": [
    "## Example request"
   ]
  },
  {
   "cell_type": "code",
   "execution_count": null,
   "id": "e014e4a1",
   "metadata": {},
   "outputs": [],
   "source": [
    "import requests\n",
    "import json"
   ]
  },
  {
   "cell_type": "code",
   "execution_count": null,
   "id": "1b612f5c",
   "metadata": {},
   "outputs": [],
   "source": [
    "# symbols/get-meta-data is endpoint (see documentation of the various endpoints)\n",
    "# documentation: https://rapidapi.com/apidojo/api/seeking-alpha\n",
    "url = \"https://seeking-alpha.p.rapidapi.com/symbols/get-meta-data\"\n",
    "\n",
    "headers = {\n",
    "    'x-rapidapi-key': apiKey,\n",
    "    'x-rapidapi-host': \"seeking-alpha.p.rapidapi.com\"\n",
    "}\n",
    "\n",
    "# in a 'get' requests the params are added to the url, in this case: ?symbol=aapl\n",
    "params = {\"symbol\": \"aapl\" }\n",
    "\n",
    "# request\n",
    "r = requests.request(\"GET\", url, headers=headers, params=params)"
   ]
  },
  {
   "cell_type": "code",
   "execution_count": null,
   "id": "1c10f1f7",
   "metadata": {},
   "outputs": [],
   "source": [
    "# html response code, 200 is 'OK', 404 is not found, etc\n",
    "r"
   ]
  },
  {
   "cell_type": "code",
   "execution_count": null,
   "id": "68b3ffe2",
   "metadata": {},
   "outputs": [],
   "source": [
    "# status code - should be 200 ('OK')\n",
    "r.status_code "
   ]
  },
  {
   "cell_type": "code",
   "execution_count": null,
   "id": "80a2fd12",
   "metadata": {},
   "outputs": [],
   "source": [
    "# this is the server response in text format\n",
    "r.text"
   ]
  },
  {
   "cell_type": "code",
   "execution_count": null,
   "id": "81154ba4",
   "metadata": {},
   "outputs": [],
   "source": [
    "# this is the server response in json format\n",
    "r.json()"
   ]
  },
  {
   "cell_type": "code",
   "execution_count": null,
   "id": "a4be768a",
   "metadata": {},
   "outputs": [],
   "source": [
    "# let's wrap that in a few functions\n",
    "\n",
    "# doRequest: 'low' level request\n",
    "# url: string with url\n",
    "# params: object (dictionary) that is sent with request\n",
    "# apiKey: string with api-key\n",
    "def doRequest( url, params, apiKey):\n",
    "    # headers\n",
    "    headers = {\n",
    "    'x-rapidapi-key': apiKey,\n",
    "    'x-rapidapi-host': \"seeking-alpha.p.rapidapi.com\"\n",
    "    }\n",
    "    \n",
    "    return ( requests.get(url, headers=headers, params=params) )\n",
    "\n",
    "def getMetaData (ticker, apiKey):\n",
    "    params = {\"symbol\": ticker }\n",
    "    return doRequest(\"https://seeking-alpha.p.rapidapi.com/symbols/get-meta-data\", params, apiKey)\n",
    "    "
   ]
  },
  {
   "cell_type": "code",
   "execution_count": null,
   "id": "63a4f4c3",
   "metadata": {},
   "outputs": [],
   "source": [
    "r = getMetaData(\"aapl\", apiKey)"
   ]
  },
  {
   "cell_type": "code",
   "execution_count": null,
   "id": "f49d93c4",
   "metadata": {},
   "outputs": [],
   "source": [
    "# should be 200 ('OK')\n",
    "r.status_code "
   ]
  },
  {
   "cell_type": "code",
   "execution_count": null,
   "id": "b3ae5a0d",
   "metadata": {},
   "outputs": [],
   "source": [
    "r.json()"
   ]
  },
  {
   "cell_type": "markdown",
   "id": "85f05a34",
   "metadata": {},
   "source": [
    "## Get all transcript Ids"
   ]
  },
  {
   "cell_type": "code",
   "execution_count": null,
   "id": "49987ecf",
   "metadata": {},
   "outputs": [],
   "source": [
    "# another endpoint (transcripts of conference calls)\n",
    "# ticker: string\n",
    "# apiKey: string\n",
    "# number: number, default is 1 (if not passed in)\n",
    "def getAllTranscriptIds( ticker, apiKey, number = 1):\n",
    "    params = {\"id\": ticker, \"size\": 40, \"number\": number }\n",
    "    return doRequest(\"https://seeking-alpha.p.rapidapi.com/transcripts/v2/list\", params, apiKey)                      \n"
   ]
  },
  {
   "cell_type": "code",
   "execution_count": null,
   "id": "ef3e9772",
   "metadata": {},
   "outputs": [],
   "source": [
    "r = getAllTranscriptIds(\"aapl\", apiKey)"
   ]
  },
  {
   "cell_type": "code",
   "execution_count": null,
   "id": "479a02a2",
   "metadata": {},
   "outputs": [],
   "source": [
    "# status code - should be 200 ('OK')\n",
    "r.status_code "
   ]
  },
  {
   "cell_type": "code",
   "execution_count": null,
   "id": "0012d6bc",
   "metadata": {},
   "outputs": [],
   "source": [
    "# this is the server response in text format\n",
    "r.text"
   ]
  },
  {
   "cell_type": "markdown",
   "id": "0bfcd213",
   "metadata": {},
   "source": [
    "### inspect in https://jsonviewer.stack.hu/\n",
    "\n",
    "Notice the structure of the json:\n",
    "    \n",
    "```\n",
    "{} JSON, means the whole structure is a dictionary (object)\n",
    "[] data: on the JSON there is a data property which is a list, expand (click '+')\n",
    "    {} 0, {} 1, etc, (data is a list of dictionaries), expand one\n",
    "        id, type, {} attributes, {} relationships, {} link\n",
    "[] included: there is a property included (list)\n",
    "{} meta: there is a dictionary meta, when expanded (click on '+')\n",
    "    {} page: there is a dictionary page, when expanded (click on '+')\n",
    "        title: string\n",
    "        description: string\n",
    "        size: 40\n",
    "        totalPages: 2\n",
    "        total: 75\n",
    "    {} minmaxPublishOn: dictionary\n",
    "```\n",
    "\n",
    "So there are 75 conference calls for Apple (aapl), and with 2 requests we would get these\n"
   ]
  },
  {
   "cell_type": "code",
   "execution_count": null,
   "id": "1700a00b",
   "metadata": {},
   "outputs": [],
   "source": [
    "# page dictionary\n",
    "# note that every endpoint can have a different structure; you need to inspect\n",
    "# the structure before you can know the structure (don't assume any structure)\n",
    "# (or use documentation)\n",
    "page = r.json()[\"meta\"][\"page\"]\n",
    "page"
   ]
  },
  {
   "cell_type": "code",
   "execution_count": null,
   "id": "661f5547",
   "metadata": {},
   "outputs": [],
   "source": [
    "numPages = int(page[\"totalPages\"])\n",
    "print(numPages)"
   ]
  },
  {
   "cell_type": "markdown",
   "id": "3bfffd44",
   "metadata": {},
   "source": [
    "## Get a transcript"
   ]
  },
  {
   "cell_type": "code",
   "execution_count": null,
   "id": "67c148fd",
   "metadata": {},
   "outputs": [],
   "source": [
    "# let's get the first transcript\n",
    "id = r.json()[\"data\"][0][\"id\"]\n",
    "id"
   ]
  },
  {
   "cell_type": "code",
   "execution_count": null,
   "id": "38270759",
   "metadata": {},
   "outputs": [],
   "source": [
    "# ticker: string\n",
    "# id: string (or number) with transcript id\n",
    "# ticker: string\n",
    "# apiKey: string\n",
    "# number: number, default is 1 (if not passed in)\n",
    "def getTranscript( transcriptId, apiKey):\n",
    "    params = {\"id\": transcriptId }\n",
    "    return doRequest(\"https://seeking-alpha.p.rapidapi.com/transcripts/v2/get-details\", params, apiKey)      \n",
    "\n",
    "r = getTranscript(id, apiKey)\n"
   ]
  },
  {
   "cell_type": "code",
   "execution_count": null,
   "id": "13c7a7e3",
   "metadata": {},
   "outputs": [],
   "source": [
    "print(r.text)"
   ]
  },
  {
   "cell_type": "code",
   "execution_count": null,
   "id": "1970ac0e",
   "metadata": {},
   "outputs": [],
   "source": [
    "# content\n",
    "content = r.json()[\"data\"][\"attributes\"][\"content\"]\n",
    "print(content)"
   ]
  },
  {
   "cell_type": "code",
   "execution_count": null,
   "id": "d9209668",
   "metadata": {},
   "outputs": [],
   "source": []
  }
 ],
 "metadata": {
  "kernelspec": {
   "display_name": "Python 3",
   "language": "python",
   "name": "python3"
  },
  "language_info": {
   "codemirror_mode": {
    "name": "ipython",
    "version": 3
   },
   "file_extension": ".py",
   "mimetype": "text/x-python",
   "name": "python",
   "nbconvert_exporter": "python",
   "pygments_lexer": "ipython3",
   "version": "3.8.8"
  }
 },
 "nbformat": 4,
 "nbformat_minor": 5
}
