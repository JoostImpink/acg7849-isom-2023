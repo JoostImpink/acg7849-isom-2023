{
 "cells": [
  {
   "cell_type": "markdown",
   "metadata": {},
   "source": [
    "# Web crawling using Selenium\n",
    "\n",
    "For small/straightforward page downloads (no login, no page rendering/no dynamic pages), it makes sense to use `requests`.\n",
    "\n",
    "For pages that have a login, that are interactive/dynamic, `Selenium` is usually the best option.\n"
   ]
  },
  {
   "cell_type": "code",
   "execution_count": null,
   "metadata": {},
   "outputs": [],
   "source": [
    "# run this cell once, then 'Kernel' - 'Restart'\n",
    "!pip install selenium"
   ]
  },
  {
   "cell_type": "markdown",
   "metadata": {},
   "source": [
    "## Selenium"
   ]
  },
  {
   "cell_type": "markdown",
   "metadata": {},
   "source": [
    "Selenium requires 'drivers' to interact with different browsers. Each browser (Firefox, Chrome, etc) has their own driver.\n",
    "\n",
    "The code below assumes that in the same folder of this noteboook you have a folder 'selenium_files' with either the driver for FireFox or Chrome, as well as 'jquery.js' (week 2):\n",
    "\n",
    "- chromedriver.exe for Chrome (Download from: [https://chromedriver.chromium.org/](https://chromedriver.chromium.org/))\n",
    "- geckodriver.exe for FireFox (Download from: [https://github.com/mozilla/geckodriver/releases](https://github.com/mozilla/geckodriver/releases)) - download 'geckodriver-v0.33.0-win32.zip'\n",
    "- jquery.js (Download from [https://jquery.com/download/](https://jquery.com/download/))\n",
    "\n",
    "\n",
    "You don't need have both Chrome and FireFox working; one is enough. There are slight differences though with certain tasks (like mouse movements). \n",
    "\n",
    "Furhter reading/tutorials: [https://www.browserstack.com/guide/category/tutorials](https://www.browserstack.com/guide/category/tutorials)\n",
    "\n",
    "\n",
    "In the next steps: either use Selenium with Chrome, or with Firefox."
   ]
  },
  {
   "cell_type": "markdown",
   "metadata": {},
   "source": [
    "### Selenium using Chrome"
   ]
  },
  {
   "cell_type": "code",
   "execution_count": null,
   "metadata": {},
   "outputs": [],
   "source": [
    "from selenium import webdriver\n",
    "\n",
    "# new driver (opens browser window) (edit path)\n",
    "# if you move chromedriver.exe to the same folder as the notebook, you can do:\n",
    "#driver = webdriver.Chrome('chromedriver.exe')\n",
    "driver = webdriver.Chrome(r'C:\\git\\python-materials-acg7848\\selenium\\selenium_files\\chromedriver.exe')"
   ]
  },
  {
   "cell_type": "markdown",
   "metadata": {},
   "source": [
    "### Selenium using Firefox "
   ]
  },
  {
   "cell_type": "code",
   "execution_count": null,
   "metadata": {
    "scrolled": true
   },
   "outputs": [],
   "source": [
    "from selenium import webdriver\n",
    "\n",
    "# make sure path is correct\n",
    "driver = webdriver.Firefox(executable_path=r'C:\\git\\python-materials-acg7848\\selenium\\selenium_files\\geckodriver.exe')"
   ]
  },
  {
   "cell_type": "markdown",
   "metadata": {},
   "source": [
    "### SessionNotCreatedException\n",
    "\n",
    "Error message: \n",
    "```\n",
    "Message: Expected browser binary location, but unable to find binary in default location, no 'moz:firefoxOptions.binary' capability provided, and no binary flag set on the command line\n",
    "```\n",
    "\n",
    "I had the above error occur and I could solve it with Google/settings ('options'):"
   ]
  },
  {
   "cell_type": "code",
   "execution_count": null,
   "metadata": {},
   "outputs": [],
   "source": [
    "# https://stackoverflow.com/questions/64908154/sessionnotcreatedexception-message-expected-browser-binary-location-but-unabl\n",
    "\n",
    "from selenium import webdriver\n",
    "from selenium.webdriver.firefox.options import Options\n",
    "\n",
    "options = Options()\n",
    "options.binary_location = r\"C:\\Program Files\\Mozilla Firefox\\firefox.exe\"\n",
    "driver = webdriver.Firefox(options=options, executable_path=r'C:\\git\\python-materials-acg7848\\selenium\\selenium_files\\geckodriver.exe')\n"
   ]
  },
  {
   "cell_type": "markdown",
   "metadata": {},
   "source": [
    "### Example Google"
   ]
  },
  {
   "cell_type": "markdown",
   "metadata": {},
   "source": [
    "Either way, we now have either a Chrome or FireFox window open. Note that we assigned it to a variable 'driver'"
   ]
  },
  {
   "cell_type": "code",
   "execution_count": null,
   "metadata": {},
   "outputs": [],
   "source": [
    "driver"
   ]
  },
  {
   "cell_type": "code",
   "execution_count": null,
   "metadata": {},
   "outputs": [],
   "source": [
    "# tell driver to go to a specific url\n",
    "driver.get(\"https://www.google.com\")"
   ]
  },
  {
   "cell_type": "markdown",
   "metadata": {},
   "source": [
    "### inspect\n",
    "\n",
    "Inspect the file in two ways: open it in your web browser, and open it in your text editor.\n",
    "\n",
    "In the browser: in Chrome and Firefox: press F12 to open the debugger. \n",
    "You will be able to right-click any element (in the web page), click 'inspect' to see the corresponding HTML.\n",
    "\n",
    "> Note: if the console isn't open yet, you may need to right-click and 'inspect' twice for the debugger to highlight the correct HTML.\n",
    "        "
   ]
  },
  {
   "cell_type": "markdown",
   "metadata": {},
   "source": [
    "### Locating elements\n",
    "\n",
    "There are many ways to 'locate' elements in a HTML page. Elements can be a button, input field, paragraphs, tables, table rows/cells, etc.\n",
    "\n",
    "Elements can then be read/changed/clicked, etc (depending on the element).\n",
    "\n",
    "For example, the input field in Google search is named 'q'. (Inspect the element!)"
   ]
  },
  {
   "cell_type": "code",
   "execution_count": null,
   "metadata": {},
   "outputs": [],
   "source": [
    "#input element has name=\"q\"\n",
    "elem = driver.find_element_by_name(\"q\")\n",
    "elem"
   ]
  },
  {
   "cell_type": "code",
   "execution_count": null,
   "metadata": {},
   "outputs": [],
   "source": [
    "# type in search query\n",
    "elem.send_keys(\"go gators\")"
   ]
  },
  {
   "cell_type": "code",
   "execution_count": null,
   "metadata": {},
   "outputs": [],
   "source": [
    "# clear it\n",
    "elem.clear()"
   ]
  },
  {
   "cell_type": "code",
   "execution_count": null,
   "metadata": {},
   "outputs": [],
   "source": [
    "# special characters (enter, tab, etc) have a mapping\n",
    "from selenium.webdriver.common.keys import Keys\n",
    "Keys.TAB"
   ]
  },
  {
   "cell_type": "code",
   "execution_count": null,
   "metadata": {},
   "outputs": [],
   "source": [
    "# now with an enter\n",
    "from selenium.webdriver.common.keys import Keys\n",
    "elem.clear()\n",
    "elem.send_keys(\"go gators\")\n",
    "elem.send_keys(Keys.RETURN)"
   ]
  },
  {
   "cell_type": "markdown",
   "metadata": {},
   "source": [
    "## Selenium locator functions:\n",
    "\n",
    "See [https://selenium-python.readthedocs.io/locating-elements.html](https://selenium-python.readthedocs.io/locating-elements.html): \n",
    "- By CSS ID: find_element_by_id.\n",
    "- By CSS class name: find_element_by_class_name.\n",
    "- By name attribute: find_element_by_name.\n",
    "- By DOM structure or xpath: find_element_by_xpath.\n",
    "- By link text: find_element_by_link_text.\n",
    "- By partial link text: find_element_by_partial_link_text.\n",
    "- By HTML tag name: find_element_by_tag_name.\n",
    "    \n"
   ]
  },
  {
   "cell_type": "code",
   "execution_count": null,
   "metadata": {},
   "outputs": [],
   "source": [
    "# navigate to a page\n",
    "driver.get(\"https://www.startengine.com/explore\") "
   ]
  },
  {
   "cell_type": "markdown",
   "metadata": {},
   "source": [
    "Let's select the search textbox (\"Explore Investments\").\n",
    "\n",
    "Right-click and 'inspect':\n",
    "    \n",
    "- it is an 'input' element\n",
    "- it has an id 'mui-2'\n",
    "- it has several classes (MuiInputBase-input MuiOutlinedInput-input MuiInputBase-inputAdornedStart MuiInputBase-inputAdornedEnd MuiAutocomplete-input MuiAutocomplete-inputFocused css-17o9mmt)\n",
    "- a placeholder (\"Explore Investments\")\n",
    "\n",
    "It has many 'parents' ('higher' elements). Sometimes a parent is easy to locate, and then you can 'find' a child inside that parent. \n",
    "\n",
    "In this case the best bet is to go for the id with value 'mui-2' (in principles each id is unique)"
   ]
  },
  {
   "cell_type": "code",
   "execution_count": null,
   "metadata": {},
   "outputs": [],
   "source": [
    "# Returns first element with matching class\n",
    "# note: this function only works with one class (not multiple classes)\n",
    "element = driver.find_element_by_id(\"mui-2\")\n",
    "\n",
    "# note that this is a single element\n",
    "print(element)"
   ]
  },
  {
   "cell_type": "code",
   "execution_count": null,
   "metadata": {},
   "outputs": [],
   "source": [
    "# the HTML of an element\n",
    "element.get_attribute('outerHTML')"
   ]
  },
  {
   "cell_type": "code",
   "execution_count": null,
   "metadata": {},
   "outputs": [],
   "source": [
    "# get attributes of it\n",
    "# the inner HTML of an element ('children')\n",
    "element.get_attribute('innerHTML')"
   ]
  },
  {
   "cell_type": "code",
   "execution_count": null,
   "metadata": {},
   "outputs": [],
   "source": [
    "element.get_attribute('autocapitalize')"
   ]
  },
  {
   "cell_type": "code",
   "execution_count": null,
   "metadata": {},
   "outputs": [],
   "source": [
    "# the 'class' of an element\n",
    "element.get_attribute(\"class\")"
   ]
  },
  {
   "cell_type": "code",
   "execution_count": null,
   "metadata": {},
   "outputs": [],
   "source": [
    "# how about setting some text\n",
    "element.send_keys(\"easy money\")"
   ]
  },
  {
   "cell_type": "markdown",
   "metadata": {},
   "source": [
    "> Note: when 'Googling' how to use Selenium you need to be aware that Selenium can also be used with other software like Java. Java functions use 'CamelCase' (no underscores, but capitalizing words). For example, 'send_keys' is 'sendKeys' in Selenium for Java."
   ]
  },
  {
   "cell_type": "markdown",
   "metadata": {},
   "source": [
    "### Selector functions to return multiple items"
   ]
  },
  {
   "cell_type": "markdown",
   "metadata": {},
   "source": [
    "Each of the selector/locator functions (find_element_by_id, find_element_by_class_name, etc) has a corresponding function to locate/select multiple elements.\n",
    "\n",
    "For example: find_element_by_id => find_elements_by_id\n",
    "    \n",
    "The former returns one element (if it can be found), the latter returns a list with all elements found (empty list of no matches)."
   ]
  },
  {
   "cell_type": "code",
   "execution_count": null,
   "metadata": {},
   "outputs": [],
   "source": [
    "# let's get all hyperlinks (element 'a' in html)\n",
    "# elements is a list holding elements\n",
    "elements = driver.find_elements_by_tag_name(\"a\")\n",
    "print('type elements:', type(elements))\n",
    "len(elements)"
   ]
  },
  {
   "cell_type": "code",
   "execution_count": null,
   "metadata": {},
   "outputs": [],
   "source": [
    "# the third link (the first two are lenghty)\n",
    "elements[2].get_attribute('outerHTML')"
   ]
  },
  {
   "cell_type": "code",
   "execution_count": null,
   "metadata": {},
   "outputs": [],
   "source": [
    "# interested in the first link only? then use find_element (not elements)\n",
    "el = driver.find_element_by_tag_name(\"a\")\n",
    "type(el)"
   ]
  },
  {
   "cell_type": "code",
   "execution_count": null,
   "metadata": {},
   "outputs": [],
   "source": [
    "# enumerate wraps a list into a list of tuples, where each tuple has a counter and an element\n",
    "for counter, el in enumerate ( [\"kangaroo\", \"banana\", \"kegerator\"]  ):\n",
    "    print(\"counter:\", counter, \"el:\", el)\n",
    "    \n",
    "# how about getting the classes for the first 5 hyperlinks?# now le\n",
    "for counter, el in enumerate( elements[0:5] ):\n",
    "    print(\"link\", counter, \"class:\", el.get_attribute(\"class\"), \"links to\", el.get_attribute(\"href\") )"
   ]
  },
  {
   "cell_type": "markdown",
   "metadata": {},
   "source": [
    "## X-path\n",
    "\n",
    "X-path is a way to 'navigate' through a HTML document\n",
    "\n",
    "Right-click 'Sign Up' to 'inspect', then right-click the button and select 'copy' 'XPath', which gives:\n",
    "    \n",
    "```\n",
    "/html/body/div/div/div[1]/header/div/div/div[1]/div/div[2]/div[2]/div[2]/a/button\n",
    "```"
   ]
  },
  {
   "cell_type": "code",
   "execution_count": null,
   "metadata": {},
   "outputs": [],
   "source": [
    "# use function: driver.find_element_by_xpath \n",
    "# note: this xpath may not be 'stable' over time (if page changes a bit, then this path may change)\n",
    "s = driver.find_element_by_xpath (r'/html/body/div/div/div[1]/header/div/div/div[1]/div/div[2]/div[2]/div[2]/a/button')\n",
    "print(s)\n",
    "s.click()"
   ]
  },
  {
   "cell_type": "markdown",
   "metadata": {},
   "source": [
    "The X-path is not very pretty, and may be prone to being outdated if the web page changes just a bit.\n",
    "\n",
    "Inspect the HTML again; notice how the button may be hard to find (no id, no name, generic classes), but most likely the 5th or so grandparent has a unique class 'topNavRight', and there are no other buttons.\n",
    "\n",
    "So an alternative approach would be to first select the element with class 'topNavRight', and then within that element select the button."
   ]
  },
  {
   "cell_type": "code",
   "execution_count": null,
   "metadata": {},
   "outputs": [],
   "source": [
    "# navigate back first\n",
    "driver.get(\"https://www.startengine.com/explore\") \n",
    "# get element\n",
    "nav = driver.find_element_by_class_name (r'topNavRight')\n",
    "print(nav)"
   ]
  },
  {
   "cell_type": "code",
   "execution_count": null,
   "metadata": {},
   "outputs": [],
   "source": [
    "# now, instead of 'driver' (which is the full page), we use 'nav' to select the button\n",
    "btn = nav.find_element_by_tag_name(\"button\")\n",
    "print(btn)"
   ]
  },
  {
   "cell_type": "markdown",
   "metadata": {},
   "source": [
    "### This may come in handy: getting the 'parent' of an element\n",
    "\n",
    "That is; if you have an element, and you want to know the element that is one level higher (the parent)"
   ]
  },
  {
   "cell_type": "code",
   "execution_count": null,
   "metadata": {},
   "outputs": [],
   "source": [
    "# identify parent from child element with (..) in xpath\n",
    "# apply the function on the element for which you want to know the 'parent' (for example: btn)\n",
    "p = btn.find_element_by_xpath(\"..\")\n",
    "print('and the parent of the button is', p)"
   ]
  },
  {
   "cell_type": "code",
   "execution_count": null,
   "metadata": {},
   "outputs": [],
   "source": [
    "# all child elements of an element (all children of p)\n",
    "p_children = p.find_elements_by_xpath(\".//*\")\n",
    "p_children"
   ]
  },
  {
   "cell_type": "markdown",
   "metadata": {},
   "source": [
    "## Running Javascript in the browser "
   ]
  },
  {
   "cell_type": "code",
   "execution_count": null,
   "metadata": {},
   "outputs": [],
   "source": [
    "# for the browser to 'see' our variables/functions we need to use window (this is the main 'container' variable in a browser)\n",
    "s = '''\n",
    "window.message = 'hello'\n",
    "'''\n",
    "driver.execute_script( s )"
   ]
  },
  {
   "cell_type": "code",
   "execution_count": null,
   "metadata": {},
   "outputs": [],
   "source": [
    "# or\n",
    "driver.execute_script(\"window.scrollTo(0, document.body.scrollHeight);\")"
   ]
  },
  {
   "cell_type": "code",
   "execution_count": null,
   "metadata": {},
   "outputs": [],
   "source": [
    "s = '''\n",
    "window.sayMessage = function( name ) { return ('hi ' + name); }\n",
    "'''\n",
    "driver.execute_script( s )"
   ]
  },
  {
   "cell_type": "markdown",
   "metadata": {},
   "source": [
    "Test it in the debugger, in the console type: ```sayMessage('Tarzan')```"
   ]
  },
  {
   "cell_type": "code",
   "execution_count": null,
   "metadata": {},
   "outputs": [],
   "source": [
    "# execute_script can also return variables to Python\n",
    "msg = driver.execute_script( \"return sayMessage('there')\" )\n",
    "print(msg)"
   ]
  },
  {
   "cell_type": "markdown",
   "metadata": {},
   "source": [
    "Next week we will be loading (inserting) a Javascript library (jQuery) that will help us isolate elements (jQuery locators are very compact/flexible):\n",
    "    \n",
    "- Navigate to a web page\n",
    "- Load jQuery from the hard disk (and pass it into the browser through execute_script) \n",
    "- Run jQuery code (through execute_script) from Python (jQuery runs in browser working on the page we navigated to)\n",
    "- jQuery returns the data/text through execute_script\n",
    "- Save data to disk (Python)"
   ]
  },
  {
   "cell_type": "code",
   "execution_count": null,
   "metadata": {},
   "outputs": [],
   "source": []
  }
 ],
 "metadata": {
  "kernelspec": {
   "display_name": "Python 3",
   "language": "python",
   "name": "python3"
  },
  "language_info": {
   "codemirror_mode": {
    "name": "ipython",
    "version": 3
   },
   "file_extension": ".py",
   "mimetype": "text/x-python",
   "name": "python",
   "nbconvert_exporter": "python",
   "pygments_lexer": "ipython3",
   "version": "3.8.8"
  }
 },
 "nbformat": 4,
 "nbformat_minor": 4
}
