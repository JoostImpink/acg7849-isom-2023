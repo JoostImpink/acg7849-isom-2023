{
 "cells": [
  {
   "cell_type": "markdown",
   "metadata": {},
   "source": [
    "## Bag of words\n",
    "\n",
    "A commonly used way to describe/capture text features is by counting how often words appear in a text. \n",
    "\n",
    "A 'dictionary' (not a python dictionary) is a list of words to count."
   ]
  },
  {
   "cell_type": "markdown",
   "metadata": {},
   "source": [
    "In this example we will count the positive and the negative words in the business description section."
   ]
  },
  {
   "cell_type": "code",
   "execution_count": null,
   "metadata": {},
   "outputs": [],
   "source": [
    "# read business section\n",
    "with open('apple_business_section.txt' , 'r', encoding='utf-8') as myfile:    \n",
    "    item1 =  myfile.read()     "
   ]
  },
  {
   "cell_type": "code",
   "execution_count": null,
   "metadata": {},
   "outputs": [],
   "source": [
    "item1[0:200]"
   ]
  },
  {
   "cell_type": "code",
   "execution_count": null,
   "metadata": {},
   "outputs": [],
   "source": [
    "# load dictionaries\n",
    "# positive words\n",
    "with open('positive words.txt' , 'r') as myfile:    \n",
    "    pos = [word.lower().strip('\\n') for word in myfile.readlines()]  \n",
    "\n",
    "print(len(pos))\n",
    "pos[0:10]"
   ]
  },
  {
   "cell_type": "code",
   "execution_count": null,
   "metadata": {},
   "outputs": [],
   "source": [
    "# negative words\n",
    "with open('negative words.txt' , 'r') as myfile:    \n",
    "    neg = [word.lower().strip('\\n') for word in myfile.readlines()]   "
   ]
  },
  {
   "cell_type": "code",
   "execution_count": null,
   "metadata": {},
   "outputs": [],
   "source": [
    "print( len(neg) )\n",
    "# first 10\n",
    "neg[0:10]"
   ]
  },
  {
   "cell_type": "markdown",
   "metadata": {},
   "source": [
    "### Stemmed\n",
    "\n",
    "When counting the 'bag of words', you can have the text and the dictionaries stemmed (or not, as long as you are consistent)."
   ]
  },
  {
   "cell_type": "code",
   "execution_count": null,
   "metadata": {},
   "outputs": [],
   "source": [
    "from nltk.stem import PorterStemmer\n",
    "from nltk.tokenize import sent_tokenize, word_tokenize\n",
    "\n",
    "ps = PorterStemmer()\n",
    "# notice the use of 'set' to drop duplicates\n",
    "neg_stemmed = list( set( [ ps.stem(w) for w in neg  ] ) )\n",
    "print( len(neg_stemmed) )\n",
    "neg_stemmed[0:10]"
   ]
  },
  {
   "cell_type": "markdown",
   "metadata": {},
   "source": [
    "## Example"
   ]
  },
  {
   "cell_type": "code",
   "execution_count": null,
   "metadata": {},
   "outputs": [],
   "source": [
    "import nltk\n",
    "import re\n",
    "from nltk import FreqDist\n",
    "from nltk.tokenize import word_tokenize\n",
    "from nltk.corpus import stopwords\n",
    "import string\n",
    "\n",
    "# list of stop words \n",
    "stopWords = set(stopwords.words('english') ) \n",
    "\n",
    "# remove numbers, see https://stackoverflow.com/questions/57030670/how-to-remove-punctuation-and-numbers-during-tweettokenizer-step-in-nlp\n",
    "item1 = re.sub(r'\\d+', '', item1)\n",
    "\n",
    "# tokens excluding stopwords and punctuation\n",
    "business_tokens = [x.lower() for x in word_tokenize(item1) if x.lower() not in stopWords and x not in string.punctuation]\n",
    "\n",
    "print( 'number of words:',  len(business_tokens) )\n",
    "# first 10\n",
    "business_tokens[0:10]"
   ]
  },
  {
   "cell_type": "code",
   "execution_count": null,
   "metadata": {},
   "outputs": [],
   "source": [
    "# positive \n",
    "pos_matches =  [ w for w in business_tokens if w in pos  ]  \n",
    "\n",
    "# negative\n",
    "neg_matches =  [ w for w in business_tokens if w in neg  ]  "
   ]
  },
  {
   "cell_type": "code",
   "execution_count": null,
   "metadata": {},
   "outputs": [],
   "source": [
    "neg_matches[0:15]"
   ]
  },
  {
   "cell_type": "code",
   "execution_count": null,
   "metadata": {},
   "outputs": [],
   "source": [
    "len(business_tokens)"
   ]
  },
  {
   "cell_type": "code",
   "execution_count": null,
   "metadata": {},
   "outputs": [],
   "source": [
    "print ( '#positive words:', len(pos_matches),  pos_matches )"
   ]
  },
  {
   "cell_type": "code",
   "execution_count": null,
   "metadata": {},
   "outputs": [],
   "source": [
    "print ( '#negative words:', len(neg_matches),  neg_matches )"
   ]
  },
  {
   "cell_type": "code",
   "execution_count": null,
   "metadata": {},
   "outputs": [],
   "source": []
  }
 ],
 "metadata": {
  "kernelspec": {
   "display_name": "Python 3",
   "language": "python",
   "name": "python3"
  },
  "language_info": {
   "codemirror_mode": {
    "name": "ipython",
    "version": 3
   },
   "file_extension": ".py",
   "mimetype": "text/x-python",
   "name": "python",
   "nbconvert_exporter": "python",
   "pygments_lexer": "ipython3",
   "version": "3.8.8"
  }
 },
 "nbformat": 4,
 "nbformat_minor": 2
}
