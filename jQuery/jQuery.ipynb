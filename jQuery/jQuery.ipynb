{
 "cells": [
  {
   "cell_type": "markdown",
   "metadata": {},
   "source": [
    "# jQuery\n",
    "\n",
    "Let's first use Selenium to make a driver object"
   ]
  },
  {
   "cell_type": "code",
   "execution_count": null,
   "metadata": {},
   "outputs": [],
   "source": [
    "from selenium import webdriver\n",
    "# new driver (opens browser window)\n",
    "driver = webdriver.Chrome(r'selenium_files/chromedriver.exe')"
   ]
  },
  {
   "cell_type": "code",
   "execution_count": null,
   "metadata": {},
   "outputs": [],
   "source": [
    "# navigate to a page to work with\n",
    "driver.get(\"https://www.startengine.com/explore\")"
   ]
  },
  {
   "cell_type": "markdown",
   "metadata": {},
   "source": [
    "## Download jQuery and save it to disk (as jquery.js)\n",
    "\n",
    "Place it in the same folder as your notebook, or in a subfolder 'selenium_files'. (Or anywhere else, as long as you use the correct folder name when you read the file).\n",
    "\n",
    "Url: https://code.jquery.com/jquery-3.6.4.js"
   ]
  },
  {
   "cell_type": "markdown",
   "metadata": {},
   "source": [
    "## Read jquery from disk and 'inject' it (with execute_script)\n",
    "\n",
    "Remember that execute_script is used to run Javascript in the browser."
   ]
  },
  {
   "cell_type": "code",
   "execution_count": null,
   "metadata": {},
   "outputs": [],
   "source": [
    "# this assumes subfolder 'selenium_files'\n",
    "with open(r'selenium_files/jquery.js', 'r') as jquery_js:\n",
    "    # read the file and then run it in the browser\n",
    "    driver.execute_script( jquery_js.read() ) "
   ]
  },
  {
   "cell_type": "markdown",
   "metadata": {},
   "source": [
    "### Check it\n",
    "\n",
    "At this point jQuery should be available in the browser. Open the debugger window (F12, or ctrl+C) and type '$.' (with the period, and without the quotes).\n",
    "\n",
    "Typing the period will show autocomplete (the properties/functions that are available on that variable).\n",
    "\n",
    "`$` is the function name of jQuery. Why `$` and not, say, 'kegerator'? Because `$` is a valid JavaScript character and less typing. \n",
    "\n",
    "If jQuery is correctly loaded, the first autocomplete option should be `_data` and if it is not loaded, the first option is `length`."
   ]
  },
  {
   "cell_type": "markdown",
   "metadata": {},
   "source": [
    "## Manual loading of jquery\n",
    "\n",
    "If you don't want (need) to use Selenium to load jQuery, you can also add it manually to any web browser through the debugger.\n",
    "\n",
    "Open a web page , and open the debug window (usually F12 or ctrl+shift+C).\n",
    "\n",
    "Select the console, and copy/paste:\n",
    "\n",
    "```javascript\n",
    "var script = document.createElement(\"script\")\n",
    "script.type = \"text/javascript\";\n",
    "script.src = \"https://code.jquery.com/jquery-3.6.4.js\";\n",
    "document.getElementsByTagName(\"head\")[0].appendChild(script);\n",
    "```\n",
    "\n",
    "The above code will load the jquery script. It's a bit convoluted, basically we are adding `<script type=\"text/javascript\" src=\"https://code.jquery.com/jquery-3.6.4.js\"></script>`,\n",
    "and the browser will load and run the JavaScript at that url."
   ]
  },
  {
   "cell_type": "markdown",
   "metadata": {},
   "source": [
    "### now we can run jquery in the debugger "
   ]
  },
  {
   "cell_type": "markdown",
   "metadata": {},
   "source": [
    "#### Hyperlinks\n",
    "\n",
    "> Note: it depends on the resolution of your screen. If it is wide, then make it small and refresh the page (F5).\n",
    "\n",
    "Type the following jQuery in the console/debugger (it is not python and won't work from your notebook):\n",
    "```\n",
    "$(\"a\")\n",
    "```\n",
    "There are 73 hyperlinks (click on the > symbol to expand). Click on '0' to see the properties (yes, a lot of properties).\n",
    "\n",
    "The first one is \n",
    "```\n",
    "$(\"a\")[0]\n",
    "```\n",
    "Try hovering over the element in the console. It will 'light up' on the page. Yes, very helpful!"
   ]
  },
  {
   "cell_type": "markdown",
   "metadata": {},
   "source": [
    "## How to get these elements to python?\n",
    "\n",
    "Using `execute_script` we can actually get these 73 hyperlinks in python. Note that we have JavaScript that works (`$(\"a\")`) so we are going to use that."
   ]
  },
  {
   "cell_type": "code",
   "execution_count": null,
   "metadata": {},
   "outputs": [],
   "source": [
    "# this is python code and you can run this in the notebook\n",
    "# what is happening?\n",
    "# Selenium runs JavaScript code that actually 'returns' something\n",
    "# Since we are using `links =` whatever Selenium receives will be passed into that variable\n",
    "links = driver.execute_script('return $(\"a\")')"
   ]
  },
  {
   "cell_type": "code",
   "execution_count": null,
   "metadata": {},
   "outputs": [],
   "source": [
    "# let's check the type of links and what it holds\n",
    "print('type of links', type(links))\n",
    "print('length of links', len(links))\n",
    "print('type of links[0]', type(links[0]))"
   ]
  },
  {
   "cell_type": "code",
   "execution_count": null,
   "metadata": {},
   "outputs": [],
   "source": [
    "# oh okay... yes, Selenium knows how to deal with WebElements! Great teamwork!!\n",
    "print(links[0].get_attribute('href'))"
   ]
  },
  {
   "cell_type": "markdown",
   "metadata": {},
   "source": [
    "### Enthusiastic instructor\n",
    "\n",
    "Your enthusiastic instructor was bragging about the locator capabilities of jQuery. And now it is the time for him to deliver.\n",
    "\n",
    "We don't want all the hyperlinks, we want the hyperlinks of the projects (when the page loads 12 projects are shown). So we want 12 project hyperlinks (and not all 73).\n",
    "\n",
    "Inspect the HTML of a project's div (right-click and inspect).\n",
    "\n",
    "Notice the container that holds all 12 projects: a div with a class MuiGrid-container. And that each of the projects is in a div with a class 'tombstone'.\n",
    "    \n",
    "In the console (not in the notebook), try this JavaScript:\n",
    "    \n",
    "```\n",
    "$(\"div.tombstone a\")\n",
    "```\n",
    "\n",
    "This first selects all divs with a class tombstone, and then gets all hyperlinks (element a) within that div. Note the period indicates a class:\n",
    "\n",
    "Some subtle things:\n",
    "```\n",
    "div.tombstone: a div with class tombstone\n",
    "        \n",
    "div .tomstone: a div with a child (grand child, etc) with class tombstone\n",
    "```\n",
    "\n",
    "Much better; we went down from 73 hyperlinks to having 2 x 12 hyperlinks. We can either fix that in python (list(set(list))), or fix it in jQuery.\n",
    "\n",
    "To fix this with jQuery we need to inspect the HTML to find something 'unique' or 'different' that we can leverage. There is no way to know unless we inspect the HTML.\n",
    "\n",
    "Inspect and notice each tombstone has 4 divs. Our problem is that the first two divs each have the link. But, the first div has a class that the second one does not have ('activeEvent').\n",
    "\n",
    "So, we found something different, so let's leverage that! The following selector will require class 'activeEvent', and that makes the match unique.\n",
    "\n",
    "```\n",
    "$(\"div.tombstone .activeEvent a\")\n",
    "```\n",
    "\n",
    "Meaning: find divs with a class tombstone, within that div an element with a class activeEvent, and within that element the hyperlink (a)"
   ]
  },
  {
   "cell_type": "code",
   "execution_count": null,
   "metadata": {},
   "outputs": [],
   "source": [
    "# let's bring these to pyton\n",
    "links = driver.execute_script('return $(\"div.tombstone .activeEvent a\")')"
   ]
  },
  {
   "cell_type": "code",
   "execution_count": null,
   "metadata": {},
   "outputs": [],
   "source": [
    "# let's check the type of links and what it holds\n",
    "print('type of links', type(links))\n",
    "print('length of links', len(links))\n",
    "print('type of links[0]', type(links[0]))"
   ]
  },
  {
   "cell_type": "code",
   "execution_count": null,
   "metadata": {},
   "outputs": [],
   "source": [
    "for link in links[0:3]:\n",
    "    print(link.get_attribute('href'))"
   ]
  },
  {
   "cell_type": "markdown",
   "metadata": {},
   "source": [
    "### What if we want to pass the hrefs (instead of the whole element)\n",
    "\n",
    "This gives a list of a elements (what we had earlier)\n",
    "```\n",
    "$(\"div.tombstone .activeEvent a\")\n",
    "```\n",
    "\n",
    "This puts the list of elements into a JavaScript array (list)\n",
    "\n",
    "```\n",
    "els = $(\"div.tombstone .activeEvent a\")\n",
    "```\n",
    "You can pass in any of these elements to jQuery to use jQuery functions; in this case `attr` (gives access to attributes) (this is the equivalent of get_attribute in Selenium)\n",
    "```\n",
    "$(els[0]).attr(\"href\")\n",
    "```\n",
    "\n",
    "Take each of the elements, and pass them into `each`. The `each` function will take one element (a) at the time and pass it into the anonymous function that is passed to each.\n",
    "The anonymous function (`function() { links.push( $(this).attr('href')) }`) will append (push in JavaScript) the href onto the array (list).\n",
    "\n",
    "`this` refers to the current element (one element at a time), so `$(this)` allows us to use jQuery on each element.\n",
    "\n",
    "```\n",
    "links = []\n",
    "$(\"div.tombstone .activeEvent a\").each( function() { links.push( $(this).attr('href')) }   )\n",
    "```\n",
    "\n",
    "Can we get a one-liner? Yes, with the map function we can control what is being returned:\n",
    "\n",
    "```\n",
    "$(\"div.tombstone .activeEvent a\").map( function() { return( $(this).attr(\"href\")) } )\n",
    "```"
   ]
  },
  {
   "cell_type": "code",
   "execution_count": null,
   "metadata": {},
   "outputs": [],
   "source": [
    "# python\n",
    "links = driver.execute_script('return $(\"div.tombstone .activeEvent a\").map( function() { return( $(this).attr(\"href\")) } )')"
   ]
  },
  {
   "cell_type": "code",
   "execution_count": null,
   "metadata": {},
   "outputs": [],
   "source": [
    "links[0:3]"
   ]
  },
  {
   "cell_type": "markdown",
   "metadata": {},
   "source": [
    "### `map` vs `each`\n",
    "\n",
    "The `each` method is meant to be an immutable iterator, where as the `map` method can be used as an iterator, but is really meant to manipulate the supplied array and return a new array.\n",
    "\n",
    "Another important thing to note is that the each function returns the original array while the map function returns a new array. \n",
    "\n",
    "See: https://stackoverflow.com/questions/749084/jquery-map-vs-each\n",
    "        "
   ]
  },
  {
   "cell_type": "markdown",
   "metadata": {},
   "source": [
    "## Token, price, 24hr change from coinmarketcap.com"
   ]
  },
  {
   "cell_type": "code",
   "execution_count": null,
   "metadata": {},
   "outputs": [],
   "source": [
    "# use a function to prevent copy-paste the same code\n",
    "# url: string of url\n",
    "def loadUrl( url ):\n",
    "    # navigate to a page to work with\n",
    "    driver.get( url )\n",
    "    # this assumes subfolder 'selenium_files'\n",
    "    with open(r'selenium_files/jquery.js', 'r') as jquery_js:\n",
    "        # read the file and then run it in the browser\n",
    "        driver.execute_script( jquery_js.read() )"
   ]
  },
  {
   "cell_type": "code",
   "execution_count": null,
   "metadata": {},
   "outputs": [],
   "source": [
    "# use our function to go to coinmarketcap.com and inject jQuery\n",
    "loadUrl(\"https://www.coinmarketcap.com\")"
   ]
  },
  {
   "cell_type": "markdown",
   "metadata": {},
   "source": [
    "#### Inspect the HTML, see the table with class 'cmc-table'\n",
    "\n",
    "```\n",
    "els = $(\"table.cmc-table tr\")\n",
    "```\n",
    "\n",
    "The first row is the header, https://stackoverflow.com/questions/2259393/jquery-select-all-except-first\n",
    "```\n",
    "els = $(\"table.cmc-table tr:not(:first)\")\n",
    "```"
   ]
  },
  {
   "cell_type": "markdown",
   "metadata": {},
   "source": [
    "## jQuery `find`\n",
    "\n",
    "In Selenium we could use the locator functions on the driver (whole document), or on elements (to just look 'inside' the element).\n",
    "\n",
    "Likewise, jQuery has a `find` function, that you can use on an element (so it will look inside that element only).\n",
    "\n",
    "For example: `$(els[1]).find(\"td\")` -> `$(els[1])` takes an element and will allow us to use jQuery functions (in this case `find`). \n",
    "    \n",
    "We are going to find all `td` elements (wich are table cells). In other words, we feed it a row and will get a list of cells. Why? Because there are certains cells we are interested in (we are going to get the token name, the price and the 24 hour % change). Since a table is predictable/structured, for example, the project name is always in the third cell, this will help us get what we need.\n"
   ]
  },
  {
   "cell_type": "markdown",
   "metadata": {},
   "source": [
    "#### Each tr (table row) has td elements (cells)\n",
    "\n",
    "```\n",
    "cells = $(els[1]).find(\"td\") \n",
    "\n",
    "```\n",
    "cells[2]: token name, cells[3]: price, cells[4]: 24h %\n",
    "\n",
    "inspect cells[2], notice p with color=\"text\" holding name, and p color=\"text3\" holding abbreviation\n",
    "\n",
    "```\n",
    "$(cells[2]).find('p[color=\"text\"]').html()\n",
    "$(cells[2]).find('p[color=\"text3\"]').html()\n",
    "```"
   ]
  },
  {
   "cell_type": "markdown",
   "metadata": {},
   "source": [
    "### Let's get the details with a function\n",
    "```\n",
    "function getDetails( tr ) {\n",
    "    cells = $(tr).find(\"td\") \n",
    "    return {\n",
    "        \"name\" : $(cells[2]).find('p[color=\"text\"]').html() ,\n",
    "        \"slug\" : $(cells[2]).find('p[color=\"text3\"]').html() ,\n",
    "        \"price\" : $(cells[3]).text(),\n",
    "        \"24h\" : $(cells[4]).text()\n",
    "    }\n",
    "};\n",
    "console.log( getDetails (els[1]) );\n",
    "```"
   ]
  },
  {
   "cell_type": "markdown",
   "metadata": {},
   "source": [
    "#### Go through all elements (rows) and retrieve the details\n",
    "```\n",
    "details = []\n",
    "els.each( function(i, el) { details.push(getDetails(el))} )\n",
    "```\n",
    "\n",
    "or\n",
    "\n",
    "```\n",
    "details = $(\"table.cmc-table tr:not(:first)\").map( function() { return(getDetails(this))} );\n",
    "```"
   ]
  },
  {
   "cell_type": "markdown",
   "metadata": {},
   "source": [
    "## Bringing JavaScript variables 'home' (to Selenium)"
   ]
  },
  {
   "cell_type": "code",
   "execution_count": null,
   "metadata": {},
   "outputs": [],
   "source": [
    "# this is python code; getDetails is a python string, holding JavaScript\n",
    "# in the next cell we are going to 'feed' this into the browser\n",
    "getDetails = '''\n",
    "/*\n",
    "This function gets a table row (tr) element\n",
    "It will pass it into jQuery to be able to 'look inside'\n",
    "It will return an object (dictionary) with the name, slug (short name), price and 24h price change\n",
    "*/\n",
    "function getDetails( tr ) {\n",
    "    cells = $(tr).find(\"td\") \n",
    "    return {\n",
    "        \"name\" : $(cells[2]).find('p[color=\"text\"]').html() ,\n",
    "        \"slug\" : $(cells[2]).find('p[color=\"text3\"]').html() ,\n",
    "        \"price\" : $(cells[3]).text(),\n",
    "        \"24h\" : $(cells[4]).text()\n",
    "    };\n",
    "};\n",
    "\n",
    "/*\n",
    "This code gets all table rows (except the first) and uses the map functionality to make a list of dictionaries\n",
    "(each dictionary is made by function getDetails)\n",
    "*/\n",
    "return $(\"table.cmc-table tr:not(:first)\").map( function() { return(getDetails(this))} );\n",
    "'''"
   ]
  },
  {
   "cell_type": "code",
   "execution_count": null,
   "metadata": {},
   "outputs": [],
   "source": [
    "# run the JavaScript and set the returned value into 'det' \n",
    "det = driver.execute_script(getDetails)"
   ]
  },
  {
   "cell_type": "code",
   "execution_count": null,
   "metadata": {},
   "outputs": [],
   "source": [
    "det"
   ]
  },
  {
   "cell_type": "code",
   "execution_count": null,
   "metadata": {},
   "outputs": [],
   "source": [
    "print('type of det:', type (det))\n",
    "print('elements are type: ', type(det[0]))"
   ]
  },
  {
   "cell_type": "markdown",
   "metadata": {},
   "source": [
    "### What's up with the empty dictionaries? \n",
    "\n",
    "Lazy loading!! The table only gets populated when the user scrolls down\n",
    "\n",
    "> How can we trigger scrolling down? "
   ]
  },
  {
   "cell_type": "code",
   "execution_count": null,
   "metadata": {},
   "outputs": [],
   "source": []
  }
 ],
 "metadata": {
  "kernelspec": {
   "display_name": "Python 3",
   "language": "python",
   "name": "python3"
  },
  "language_info": {
   "codemirror_mode": {
    "name": "ipython",
    "version": 3
   },
   "file_extension": ".py",
   "mimetype": "text/x-python",
   "name": "python",
   "nbconvert_exporter": "python",
   "pygments_lexer": "ipython3",
   "version": "3.8.8"
  }
 },
 "nbformat": 4,
 "nbformat_minor": 4
}
